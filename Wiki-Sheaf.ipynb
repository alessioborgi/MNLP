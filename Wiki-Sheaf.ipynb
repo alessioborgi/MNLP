{
  "cells": [
    {
      "cell_type": "markdown",
      "source": [
        "# WIKI-SHEAF\n",
        "\n",
        "@ Alessio Borgi\n",
        "@ Stefano Previti"
      ],
      "metadata": {
        "id": "14-_AO1SfqTv"
      }
    },
    {
      "cell_type": "markdown",
      "source": [
        "### 0: IMPORTING LIBRARIES"
      ],
      "metadata": {
        "id": "m7sGiN2kf0Ga"
      }
    },
    {
      "cell_type": "code",
      "source": [
        "!pip install requests wikipedia-api wptools networkx matplotlib"
      ],
      "metadata": {
        "colab": {
          "base_uri": "https://localhost:8080/"
        },
        "id": "EMf2a6N1jYLc",
        "outputId": "dd588047-4272-436f-8f19-03515ee60c83"
      },
      "execution_count": 22,
      "outputs": [
        {
          "output_type": "stream",
          "name": "stdout",
          "text": [
            "Requirement already satisfied: requests in /usr/local/lib/python3.11/dist-packages (2.32.3)\n",
            "Requirement already satisfied: wikipedia-api in /usr/local/lib/python3.11/dist-packages (0.8.1)\n",
            "Requirement already satisfied: wptools in /usr/local/lib/python3.11/dist-packages (0.4.17)\n",
            "Requirement already satisfied: networkx in /usr/local/lib/python3.11/dist-packages (3.4.2)\n",
            "Requirement already satisfied: matplotlib in /usr/local/lib/python3.11/dist-packages (3.10.0)\n",
            "Requirement already satisfied: charset-normalizer<4,>=2 in /usr/local/lib/python3.11/dist-packages (from requests) (3.4.1)\n",
            "Requirement already satisfied: idna<4,>=2.5 in /usr/local/lib/python3.11/dist-packages (from requests) (3.10)\n",
            "Requirement already satisfied: urllib3<3,>=1.21.1 in /usr/local/lib/python3.11/dist-packages (from requests) (2.3.0)\n",
            "Requirement already satisfied: certifi>=2017.4.17 in /usr/local/lib/python3.11/dist-packages (from requests) (2025.1.31)\n",
            "Requirement already satisfied: html2text in /usr/local/lib/python3.11/dist-packages (from wptools) (2024.2.26)\n",
            "Requirement already satisfied: lxml in /usr/local/lib/python3.11/dist-packages (from wptools) (5.3.1)\n",
            "Requirement already satisfied: pycurl in /usr/local/lib/python3.11/dist-packages (from wptools) (7.45.6)\n",
            "Requirement already satisfied: contourpy>=1.0.1 in /usr/local/lib/python3.11/dist-packages (from matplotlib) (1.3.1)\n",
            "Requirement already satisfied: cycler>=0.10 in /usr/local/lib/python3.11/dist-packages (from matplotlib) (0.12.1)\n",
            "Requirement already satisfied: fonttools>=4.22.0 in /usr/local/lib/python3.11/dist-packages (from matplotlib) (4.56.0)\n",
            "Requirement already satisfied: kiwisolver>=1.3.1 in /usr/local/lib/python3.11/dist-packages (from matplotlib) (1.4.8)\n",
            "Requirement already satisfied: numpy>=1.23 in /usr/local/lib/python3.11/dist-packages (from matplotlib) (2.0.2)\n",
            "Requirement already satisfied: packaging>=20.0 in /usr/local/lib/python3.11/dist-packages (from matplotlib) (24.2)\n",
            "Requirement already satisfied: pillow>=8 in /usr/local/lib/python3.11/dist-packages (from matplotlib) (11.1.0)\n",
            "Requirement already satisfied: pyparsing>=2.3.1 in /usr/local/lib/python3.11/dist-packages (from matplotlib) (3.2.3)\n",
            "Requirement already satisfied: python-dateutil>=2.7 in /usr/local/lib/python3.11/dist-packages (from matplotlib) (2.8.2)\n",
            "Requirement already satisfied: six>=1.5 in /usr/local/lib/python3.11/dist-packages (from python-dateutil>=2.7->matplotlib) (1.17.0)\n"
          ]
        }
      ]
    },
    {
      "cell_type": "code",
      "source": [
        "import requests\n",
        "import json\n",
        "import pprint\n",
        "import wikipediaapi  # Library to interact with Wikipedia easily\n",
        "import wptools      # Library to extract additional Wikipedia data\n",
        "from urllib.parse import urlparse, unquote"
      ],
      "metadata": {
        "id": "UKHdIluDlZ-a"
      },
      "execution_count": 2,
      "outputs": []
    },
    {
      "cell_type": "markdown",
      "source": [
        "### 1: GATHERING NECESSARY INFORMATION"
      ],
      "metadata": {
        "id": "xUXXXzb2f71m"
      }
    },
    {
      "cell_type": "markdown",
      "source": [
        "#### 1.1: WIKIPEDIA INFORMATION EXTRACTION"
      ],
      "metadata": {
        "id": "A_-ZfViesaca"
      }
    },
    {
      "cell_type": "code",
      "source": [
        "def get_wikipedia_data(page_url):\n",
        "    '''\n",
        "    Function to extract data from an English Wikipedia page.\n",
        "    It retrieves:\n",
        "      - Page title\n",
        "      - Summary\n",
        "      - Categories\n",
        "      - Infobox data\n",
        "      - Internal links\n",
        "      - External links\n",
        "      - References and citations\n",
        "      - Geographical coordinates\n",
        "      - List of headings (titles and subtitles)\n",
        "    '''\n",
        "\n",
        "    # 1) Title extraction.\n",
        "    parsed_url = urlparse(page_url)\n",
        "    title = unquote(parsed_url.path.split(\"/\")[-1])\n",
        "\n",
        "    # 2) Wikipedia API object for English Wikipedia.\n",
        "    page = wikipediaapi.Wikipedia(\n",
        "        user_agent=\"WikiSheaf/1.0\",\n",
        "        language='en'\n",
        "    ).page(title)\n",
        "\n",
        "    if not page.exists():\n",
        "        return None\n",
        "\n",
        "    # 3) Extracted data Dictionary creation.\n",
        "    data = {}\n",
        "\n",
        "    # 4) Title, Summary and Categories Inclusion in the Dictionary.\n",
        "    data['title'] = page.title\n",
        "    data['summary'] = page.summary\n",
        "    data['categories'] = list(page.categories.keys())\n",
        "\n",
        "    # 5) Infobox, internal & external links, references & citations, geo info\n",
        "    #    and headings additional information.\n",
        "    try:\n",
        "\n",
        "        # Fetch parsed data from Wikipedia.\n",
        "        wp_page = wptools.page(title, lang=\"en\")\n",
        "        wp_page.get_parse()\n",
        "        extra = wp_page.data\n",
        "\n",
        "        # Extract all the \"additional\" info.\n",
        "        data[\"infobox\"] = extra.get(\"infobox\", None)\n",
        "        data[\"internal_links\"] = extra.get(\"links\", None)\n",
        "        data[\"external_links\"] = extra.get(\"externallinks\", None)\n",
        "        data[\"references\"] = extra.get(\"references\", None)\n",
        "        data[\"geographical_coordinates\"] = extra.get(\"coordinates\", None)\n",
        "        data[\"headings\"] = extra.get(\"sections\", None)\n",
        "\n",
        "    except Exception as e:\n",
        "        print(f\"Error fetching extra data from wptools for page '{title}':\", e)\n",
        "        data[\"infobox\"] = None\n",
        "        data[\"internal_links\"] = None\n",
        "        data[\"external_links\"] = None\n",
        "        data[\"references\"] = None\n",
        "        data[\"geographical_coordinates\"] = None\n",
        "        data[\"headings\"] = None\n",
        "\n",
        "    return data\n"
      ],
      "metadata": {
        "id": "Jurd2_pgleND"
      },
      "execution_count": 3,
      "outputs": []
    },
    {
      "cell_type": "markdown",
      "source": [
        "##### 1.1.1: WIKIPEDIA INFORMATION EXTRACTION - EXAMPLE USAGE"
      ],
      "metadata": {
        "id": "b94-R9ZLsZBv"
      }
    },
    {
      "cell_type": "code",
      "source": [
        "print(\"STARTING TO EXTRACT FROM WIKIPEDIA...\\n\")\n",
        "wikipedia_url = \"https://en.wikipedia.org/wiki/Pizza\"\n",
        "wikipedia_data = get_wikipedia_data(wikipedia_url)"
      ],
      "metadata": {
        "id": "8DaH4nA4rUcu",
        "outputId": "3028ac89-ecc9-4d3e-a591-21c578a46390",
        "colab": {
          "base_uri": "https://localhost:8080/"
        }
      },
      "execution_count": 13,
      "outputs": [
        {
          "output_type": "stream",
          "name": "stdout",
          "text": [
            "STARTING TO EXTRACT FROM WIKIPEDIA...\n",
            "\n"
          ]
        },
        {
          "output_type": "stream",
          "name": "stderr",
          "text": [
            "en.wikipedia.org (parse) Pizza\n",
            "en.wikipedia.org (imageinfo) File:Pizza-3007395.jpg\n",
            "Pizza (en) data\n",
            "{\n",
            "  image: <list(1)> {'kind': 'parse-image', 'file': 'File:Pizza-300...\n",
            "  infobox: <dict(12)> name, image, image_size, caption, country, r...\n",
            "  iwlinks: <list(6)> https://commons.wikimedia.org/wiki/Category:P...\n",
            "  pageid: 24768\n",
            "  parsetree: <str(77266)> <root><template><title>Short description...\n",
            "  requests: <list(2)> parse, imageinfo\n",
            "  title: Pizza\n",
            "  wikibase: Q177\n",
            "  wikidata_url: https://www.wikidata.org/wiki/Q177\n",
            "  wikitext: <str(61267)> {{Short description|Italian dish with a f...\n",
            "}\n"
          ]
        }
      ]
    },
    {
      "cell_type": "code",
      "source": [
        "print(\"PRINTING DATA EXTRACTED FROM WIKIPEDIA...\\n\")\n",
        "pprint.pprint(wikipedia_data)"
      ],
      "metadata": {
        "id": "YLSky3PasXNl",
        "outputId": "55a6fdee-2e2f-4724-84f8-9a84c3cd811d",
        "colab": {
          "base_uri": "https://localhost:8080/"
        }
      },
      "execution_count": 14,
      "outputs": [
        {
          "output_type": "stream",
          "name": "stdout",
          "text": [
            "PRINTING DATA EXTRACTED FROM WIKIPEDIA...\n",
            "\n",
            "{'categories': ['Category:All Wikipedia articles written in American English',\n",
            "                'Category:All articles with vague or ambiguous time',\n",
            "                'Category:Articles with short description',\n",
            "                'Category:CS1 Greek-language sources (el)',\n",
            "                'Category:CS1 Italian-language sources (it)',\n",
            "                'Category:CS1 Spanish-language sources (es)',\n",
            "                'Category:CS1 Swedish-language sources (sv)',\n",
            "                'Category:CS1 uses Greek-language script (el)',\n",
            "                'Category:Cheese dishes',\n",
            "                'Category:Commons category link is on Wikidata',\n",
            "                'Category:Convenience foods',\n",
            "                'Category:Flatbread dishes',\n",
            "                'Category:Food combinations',\n",
            "                'Category:Italian cuisine',\n",
            "                'Category:Italian inventions',\n",
            "                'Category:Mediterranean cuisine',\n",
            "                'Category:National dishes',\n",
            "                'Category:Neapolitan cuisine',\n",
            "                'Category:Pages with Italian IPA',\n",
            "                'Category:Pages with Neapolitan IPA',\n",
            "                'Category:Pizza',\n",
            "                'Category:Popular culture',\n",
            "                'Category:Short description is different from Wikidata',\n",
            "                'Category:Snack foods',\n",
            "                'Category:Types of food',\n",
            "                'Category:Use American English from May 2024',\n",
            "                'Category:Use mdy dates from May 2024',\n",
            "                'Category:Vague or ambiguous time from June 2024',\n",
            "                'Category:Webarchive template wayback links',\n",
            "                'Category:Wikipedia indefinitely move-protected pages',\n",
            "                'Category:Wikipedia indefinitely semi-protected pages',\n",
            "                'Category:World cuisine'],\n",
            " 'external_links': None,\n",
            " 'geographical_coordinates': None,\n",
            " 'headings': None,\n",
            " 'infobox': {'caption': 'A pizza divided into eight slices',\n",
            "             'country': '[[Italy]]',\n",
            "             'course': 'One course meal',\n",
            "             'image': 'Pizza-3007395.jpg',\n",
            "             'image_size': '250px',\n",
            "             'main_ingredient': 'Dough, sauce (usually [[tomato sauce]]), '\n",
            "                                'cheese (typically [[mozzarella]])',\n",
            "             'name': 'Pizza',\n",
            "             'no_recipes': 'true',\n",
            "             'region': '[[Naples]], [[Campania]]',\n",
            "             'served': 'Hot or warm',\n",
            "             'similar_dish': '[[Calzone]], [[panzerotti]]',\n",
            "             'type': '[[Flatbread]]'},\n",
            " 'internal_links': None,\n",
            " 'references': None,\n",
            " 'summary': 'Pizza is an Italian, specifically Neapolitan, dish typically '\n",
            "            'consisting of a flat base of leavened wheat-based dough topped '\n",
            "            'with tomato, cheese, and other ingredients, baked at a high '\n",
            "            'temperature, traditionally in a wood-fired oven.\\n'\n",
            "            'The term pizza was first recorded in 997 AD, in a Latin '\n",
            "            'manuscript from the southern Italian town of Gaeta, in Lazio, on '\n",
            "            'the border with Campania. Raffaele Esposito is often credited for '\n",
            "            'creating the modern pizza in Naples. In 2009, Neapolitan pizza '\n",
            "            'was registered with the European Union as a traditional '\n",
            "            'speciality guaranteed (TSG) dish. In 2017, the art of making '\n",
            "            \"Neapolitan pizza was included on UNESCO's list of intangible \"\n",
            "            'cultural heritage.\\n'\n",
            "            'Pizza and its variants are among the most popular foods in the '\n",
            "            'world. Pizza is sold at a variety of restaurants, including '\n",
            "            'pizzerias (pizza specialty restaurants), Mediterranean '\n",
            "            'restaurants, via delivery, and as street food. In Italy, pizza '\n",
            "            'served in a restaurant is presented unsliced, and is eaten with '\n",
            "            'the use of a knife and fork. In casual settings, however, it is '\n",
            "            'typically cut into slices to be eaten while held in the hand. '\n",
            "            'Pizza is also sold in grocery stores in a variety of forms, '\n",
            "            'including frozen or as kits for self-assembly. Store-bought '\n",
            "            'pizzas are then cooked using a home oven.\\n'\n",
            "            'In 2017, the world pizza market was US$128 billion, and in the US '\n",
            "            'it was $44 billion spread over 76,000 pizzerias. Overall, 13% of '\n",
            "            'the US population aged two years and over consumed pizza on any '\n",
            "            'given day.',\n",
            " 'title': 'Pizza'}\n"
          ]
        }
      ]
    },
    {
      "cell_type": "markdown",
      "source": [
        "#### 1.2: WIKIDATA INFORMATION EXTRACTION"
      ],
      "metadata": {
        "id": "17JQJT1nswc0"
      }
    },
    {
      "cell_type": "code",
      "source": [
        "def parse_wikidata_id(wikidata_url):\n",
        "    '''\n",
        "    Helper function to extract the Wikidata ID from a given Wikidata URL.\n",
        "    '''\n",
        "    return unquote(urlparse(wikidata_url).path.split(\"/\")[-1])\n",
        "\n",
        "def get_wikidata_data(wikidata_url):\n",
        "    '''\n",
        "    Function to extract the complete information from a Wikidata record.\n",
        "    It retrieves:\n",
        "          - Label\n",
        "          - Description\n",
        "          - Aliases (alternative names)\n",
        "          - Instance of (P31)\n",
        "          - Subclass of (P279)\n",
        "          - Inception (P571)\n",
        "          - Image (P18)\n",
        "          - Country (P17)\n",
        "          - Official website (P856)\n",
        "          - Creator/Author (P170)\n",
        "          - Location (P276)\n",
        "          - Genre/Style (P136)\n",
        "      It then extracts the English Wikipedia URL from the sitelinks and calls\n",
        "      get_wikipedia_data() to fetch Wikipedia page info.\n",
        "    '''\n",
        "    # 1) Get the Wikidata ID.\n",
        "    wikidata_id = parse_wikidata_id(wikidata_url)\n",
        "    URL = f\"https://www.wikidata.org/wiki/Special:EntityData/{wikidata_id}.json\"\n",
        "\n",
        "    # 2) Retrieve all the Wikidata.\n",
        "    try:\n",
        "        # 2.1) Fetch data from Wikidata API.\n",
        "        response = requests.get(URL)\n",
        "        data = response.json()\n",
        "        entity = data.get(\"entities\", {}).get(wikidata_id, {})\n",
        "        wikidata_info = {}\n",
        "        wikidata_info[\"id\"] = wikidata_id\n",
        "\n",
        "        # 2.2) Retrieve basic labels, descriptions.\n",
        "        wikidata_info[\"label\"] = entity.get(\"labels\", {}).get(\"en\", {}).get(\"value\", None)\n",
        "        wikidata_info[\"description\"] = entity.get(\"descriptions\", {}).get(\"en\", {}).get(\"value\", None)\n",
        "\n",
        "        # 2.3) Retrieve aliases (alternative names) in English.\n",
        "        if \"aliases\" in entity and \"en\" in entity[\"aliases\"]:\n",
        "            wikidata_info[\"aliases\"] = [alias.get(\"value\") for alias in entity[\"aliases\"][\"en\"]]\n",
        "        else:\n",
        "            wikidata_info[\"aliases\"] = None\n",
        "\n",
        "        # 2.4) Extract claims (properties (each one may include multiple values)).\n",
        "        claims = entity.get(\"claims\", {})\n",
        "\n",
        "        # 2.4.1) \"Instance of\" (P31).\n",
        "        if \"P31\" in claims:\n",
        "            wikidata_info[\"instance_of\"] = [\n",
        "                claim[\"mainsnak\"][\"datavalue\"][\"value\"][\"id\"]\n",
        "                for claim in claims[\"P31\"]\n",
        "                if \"mainsnak\" in claim and \"datavalue\" in claim[\"mainsnak\"]\n",
        "            ]\n",
        "        else:\n",
        "            wikidata_info[\"instance_of\"] = None\n",
        "\n",
        "        # 2.4.2) \"Subclass of\" (P279).\n",
        "        if \"P279\" in claims:\n",
        "            wikidata_info[\"subclass_of\"] = [\n",
        "                claim[\"mainsnak\"][\"datavalue\"][\"value\"][\"id\"]\n",
        "                for claim in claims[\"P279\"]\n",
        "                if \"mainsnak\" in claim and \"datavalue\" in claim[\"mainsnak\"]\n",
        "            ]\n",
        "        else:\n",
        "            wikidata_info[\"subclass_of\"] = None\n",
        "\n",
        "        # 2.4.3) \"Inception\" (P571).\n",
        "        if \"P571\" in claims:\n",
        "            wikidata_info[\"inception\"] = [\n",
        "                claim[\"mainsnak\"][\"datavalue\"][\"value\"][\"time\"]\n",
        "                for claim in claims[\"P571\"]\n",
        "                if \"mainsnak\" in claim and \"datavalue\" in claim[\"mainsnak\"]\n",
        "            ]\n",
        "        else:\n",
        "            wikidata_info[\"inception\"] = None\n",
        "\n",
        "        # 2.4.4) \"Image\" (P18).\n",
        "        if \"P18\" in claims:\n",
        "            wikidata_info[\"image\"] = [\n",
        "                claim[\"mainsnak\"][\"datavalue\"][\"value\"]\n",
        "                for claim in claims[\"P18\"]\n",
        "                if \"mainsnak\" in claim and \"datavalue\" in claim[\"mainsnak\"]\n",
        "            ]\n",
        "        else:\n",
        "            wikidata_info[\"image\"] = None\n",
        "\n",
        "        # 2.4.5) \"Country\" (P17).\n",
        "        if \"P17\" in claims:\n",
        "            wikidata_info[\"country\"] = [\n",
        "                claim[\"mainsnak\"][\"datavalue\"][\"value\"][\"id\"]\n",
        "                for claim in claims[\"P17\"]\n",
        "                if \"mainsnak\" in claim and \"datavalue\" in claim[\"mainsnak\"]\n",
        "            ]\n",
        "        else:\n",
        "            wikidata_info[\"country\"] = None\n",
        "\n",
        "        # 2.4.6) \"Official website\" (P856).\n",
        "        if \"P856\" in claims:\n",
        "            wikidata_info[\"official_website\"] = [\n",
        "                claim[\"mainsnak\"][\"datavalue\"][\"value\"]\n",
        "                for claim in claims[\"P856\"]\n",
        "                if \"mainsnak\" in claim and \"datavalue\" in claim[\"mainsnak\"]\n",
        "            ]\n",
        "        else:\n",
        "            wikidata_info[\"official_website\"] = None\n",
        "\n",
        "        # 2.4.7) \"Creator/Author\" (P170). (for cultural items like art or literature).\n",
        "        if \"P170\" in claims:\n",
        "            wikidata_info[\"creator\"] = [\n",
        "                claim[\"mainsnak\"][\"datavalue\"][\"value\"][\"id\"]\n",
        "                for claim in claims[\"P170\"]\n",
        "                if \"mainsnak\" in claim and \"datavalue\" in claim[\"mainsnak\"]\n",
        "            ]\n",
        "        else:\n",
        "            wikidata_info[\"creator\"] = None\n",
        "\n",
        "        # 2.4.8) \"Location\" (P276).\n",
        "        if \"P276\" in claims:\n",
        "            wikidata_info[\"location\"] = [\n",
        "                claim[\"mainsnak\"][\"datavalue\"][\"value\"][\"id\"]\n",
        "                for claim in claims[\"P276\"]\n",
        "                if \"mainsnak\" in claim and \"datavalue\" in claim[\"mainsnak\"]\n",
        "            ]\n",
        "        else:\n",
        "            wikidata_info[\"location\"] = None\n",
        "\n",
        "        # 2.4.9) \"Genre/Style\" (P136).\n",
        "        if \"P136\" in claims:\n",
        "            wikidata_info[\"genre\"] = [\n",
        "                claim[\"mainsnak\"][\"datavalue\"][\"value\"][\"id\"]\n",
        "                for claim in claims[\"P136\"]\n",
        "                if \"mainsnak\" in claim and \"datavalue\" in claim[\"mainsnak\"]\n",
        "            ]\n",
        "        else:\n",
        "            wikidata_info[\"genre\"] = None\n",
        "\n",
        "        # 2.5) Extract English Wikipedia URL and call the get_wikipedia_data() function.\n",
        "        if \"sitelinks\" in entity and \"enwiki\" in entity[\"sitelinks\"]:\n",
        "            wikipedia_url = entity[\"sitelinks\"][\"enwiki\"].get(\"url\", None)\n",
        "        else:\n",
        "            wikipedia_url = None\n",
        "        wikidata_info[\"wikipedia_url\"] = wikipedia_url\n",
        "\n",
        "        if wikipedia_url:\n",
        "            wiki_data = get_wikipedia_data(wikipedia_url)\n",
        "        else:\n",
        "            wiki_data = None\n",
        "        wikidata_info[\"wikipedia_data\"] = wiki_data\n",
        "\n",
        "        return wikidata_info\n",
        "\n",
        "    except Exception as e:\n",
        "        print(f\"Error fetching Wikidata data for {wikidata_url}: {e}\")\n",
        "        return None"
      ],
      "metadata": {
        "id": "sqcuEkM2jNQk"
      },
      "execution_count": 19,
      "outputs": []
    },
    {
      "cell_type": "markdown",
      "source": [
        "#### 1.2.1: WIKIDATA INFORMATION EXTRACTION - EXAMPLE USAGE"
      ],
      "metadata": {
        "id": "WobzYrjV-hVA"
      }
    },
    {
      "cell_type": "code",
      "source": [
        "wikidata_url = \"https://www.wikidata.org/wiki/Q177\" # (Pizza)\n",
        "wikidata_record = get_wikidata_data(wikidata_url)"
      ],
      "metadata": {
        "id": "0B_iyPmm-Xvl",
        "outputId": "106830ec-6dc7-4ae2-beab-4127493f99fc",
        "colab": {
          "base_uri": "https://localhost:8080/"
        }
      },
      "execution_count": 20,
      "outputs": [
        {
          "output_type": "stream",
          "name": "stderr",
          "text": [
            "en.wikipedia.org (parse) Pizza\n",
            "en.wikipedia.org (imageinfo) File:Pizza-3007395.jpg\n",
            "Pizza (en) data\n",
            "{\n",
            "  image: <list(1)> {'kind': 'parse-image', 'file': 'File:Pizza-300...\n",
            "  infobox: <dict(12)> name, image, image_size, caption, country, r...\n",
            "  iwlinks: <list(6)> https://commons.wikimedia.org/wiki/Category:P...\n",
            "  pageid: 24768\n",
            "  parsetree: <str(77266)> <root><template><title>Short description...\n",
            "  requests: <list(2)> parse, imageinfo\n",
            "  title: Pizza\n",
            "  wikibase: Q177\n",
            "  wikidata_url: https://www.wikidata.org/wiki/Q177\n",
            "  wikitext: <str(61267)> {{Short description|Italian dish with a f...\n",
            "}\n"
          ]
        }
      ]
    },
    {
      "cell_type": "code",
      "source": [
        "pprint.pprint(wikidata_record)"
      ],
      "metadata": {
        "id": "AuRsV2LsAi8u",
        "outputId": "7cd3e6c3-bb61-4102-8626-9b33720510bf",
        "colab": {
          "base_uri": "https://localhost:8080/"
        }
      },
      "execution_count": 21,
      "outputs": [
        {
          "output_type": "stream",
          "name": "stdout",
          "text": [
            "{'aliases': ['pie', 'pizza pie'],\n",
            " 'country': None,\n",
            " 'creator': None,\n",
            " 'description': 'Italian universal popular dish with a flat dough-based base '\n",
            "                'and toppings',\n",
            " 'genre': None,\n",
            " 'id': 'Q177',\n",
            " 'image': ['Eq it-na pizza-margherita sep2005 sml.jpg', 'Pizza-3007395.jpg'],\n",
            " 'inception': None,\n",
            " 'instance_of': ['Q19861951'],\n",
            " 'label': 'pizza',\n",
            " 'location': None,\n",
            " 'official_website': None,\n",
            " 'subclass_of': ['Q13030962', 'Q1408229', 'Q749316', 'Q2251745', 'Q26996677'],\n",
            " 'wikipedia_data': {'categories': ['Category:All Wikipedia articles written in '\n",
            "                                   'American English',\n",
            "                                   'Category:All articles with vague or '\n",
            "                                   'ambiguous time',\n",
            "                                   'Category:Articles with short description',\n",
            "                                   'Category:CS1 Greek-language sources (el)',\n",
            "                                   'Category:CS1 Italian-language sources (it)',\n",
            "                                   'Category:CS1 Spanish-language sources (es)',\n",
            "                                   'Category:CS1 Swedish-language sources (sv)',\n",
            "                                   'Category:CS1 uses Greek-language script '\n",
            "                                   '(el)',\n",
            "                                   'Category:Cheese dishes',\n",
            "                                   'Category:Commons category link is on '\n",
            "                                   'Wikidata',\n",
            "                                   'Category:Convenience foods',\n",
            "                                   'Category:Flatbread dishes',\n",
            "                                   'Category:Food combinations',\n",
            "                                   'Category:Italian cuisine',\n",
            "                                   'Category:Italian inventions',\n",
            "                                   'Category:Mediterranean cuisine',\n",
            "                                   'Category:National dishes',\n",
            "                                   'Category:Neapolitan cuisine',\n",
            "                                   'Category:Pages with Italian IPA',\n",
            "                                   'Category:Pages with Neapolitan IPA',\n",
            "                                   'Category:Pizza',\n",
            "                                   'Category:Popular culture',\n",
            "                                   'Category:Short description is different '\n",
            "                                   'from Wikidata',\n",
            "                                   'Category:Snack foods',\n",
            "                                   'Category:Types of food',\n",
            "                                   'Category:Use American English from May '\n",
            "                                   '2024',\n",
            "                                   'Category:Use mdy dates from May 2024',\n",
            "                                   'Category:Vague or ambiguous time from June '\n",
            "                                   '2024',\n",
            "                                   'Category:Webarchive template wayback links',\n",
            "                                   'Category:Wikipedia indefinitely '\n",
            "                                   'move-protected pages',\n",
            "                                   'Category:Wikipedia indefinitely '\n",
            "                                   'semi-protected pages',\n",
            "                                   'Category:World cuisine'],\n",
            "                    'external_links': None,\n",
            "                    'geographical_coordinates': None,\n",
            "                    'headings': None,\n",
            "                    'infobox': {'caption': 'A pizza divided into eight slices',\n",
            "                                'country': '[[Italy]]',\n",
            "                                'course': 'One course meal',\n",
            "                                'image': 'Pizza-3007395.jpg',\n",
            "                                'image_size': '250px',\n",
            "                                'main_ingredient': 'Dough, sauce (usually '\n",
            "                                                   '[[tomato sauce]]), cheese '\n",
            "                                                   '(typically [[mozzarella]])',\n",
            "                                'name': 'Pizza',\n",
            "                                'no_recipes': 'true',\n",
            "                                'region': '[[Naples]], [[Campania]]',\n",
            "                                'served': 'Hot or warm',\n",
            "                                'similar_dish': '[[Calzone]], [[panzerotti]]',\n",
            "                                'type': '[[Flatbread]]'},\n",
            "                    'internal_links': None,\n",
            "                    'references': None,\n",
            "                    'summary': 'Pizza is an Italian, specifically Neapolitan, '\n",
            "                               'dish typically consisting of a flat base of '\n",
            "                               'leavened wheat-based dough topped with tomato, '\n",
            "                               'cheese, and other ingredients, baked at a high '\n",
            "                               'temperature, traditionally in a wood-fired '\n",
            "                               'oven.\\n'\n",
            "                               'The term pizza was first recorded in 997 AD, '\n",
            "                               'in a Latin manuscript from the southern '\n",
            "                               'Italian town of Gaeta, in Lazio, on the border '\n",
            "                               'with Campania. Raffaele Esposito is often '\n",
            "                               'credited for creating the modern pizza in '\n",
            "                               'Naples. In 2009, Neapolitan pizza was '\n",
            "                               'registered with the European Union as a '\n",
            "                               'traditional speciality guaranteed (TSG) dish. '\n",
            "                               'In 2017, the art of making Neapolitan pizza '\n",
            "                               \"was included on UNESCO's list of intangible \"\n",
            "                               'cultural heritage.\\n'\n",
            "                               'Pizza and its variants are among the most '\n",
            "                               'popular foods in the world. Pizza is sold at a '\n",
            "                               'variety of restaurants, including pizzerias '\n",
            "                               '(pizza specialty restaurants), Mediterranean '\n",
            "                               'restaurants, via delivery, and as street food. '\n",
            "                               'In Italy, pizza served in a restaurant is '\n",
            "                               'presented unsliced, and is eaten with the use '\n",
            "                               'of a knife and fork. In casual settings, '\n",
            "                               'however, it is typically cut into slices to be '\n",
            "                               'eaten while held in the hand. Pizza is also '\n",
            "                               'sold in grocery stores in a variety of forms, '\n",
            "                               'including frozen or as kits for self-assembly. '\n",
            "                               'Store-bought pizzas are then cooked using a '\n",
            "                               'home oven.\\n'\n",
            "                               'In 2017, the world pizza market was US$128 '\n",
            "                               'billion, and in the US it was $44 billion '\n",
            "                               'spread over 76,000 pizzerias. Overall, 13% of '\n",
            "                               'the US population aged two years and over '\n",
            "                               'consumed pizza on any given day.',\n",
            "                    'title': 'Pizza'},\n",
            " 'wikipedia_url': 'https://en.wikipedia.org/wiki/Pizza'}\n"
          ]
        }
      ]
    },
    {
      "cell_type": "markdown",
      "source": [
        "### 2: BUILDING THE GRAPHS"
      ],
      "metadata": {
        "id": "wTrRew23gDvc"
      }
    },
    {
      "cell_type": "markdown",
      "source": [
        "### 3: HETEROPHILY INDEX"
      ],
      "metadata": {
        "id": "Otv06fYKgHl4"
      }
    },
    {
      "cell_type": "markdown",
      "source": [
        "### 4: SHEAF NEURAL NETWORK"
      ],
      "metadata": {
        "id": "dPFRTHC2gLyr"
      }
    }
  ],
  "metadata": {
    "language_info": {
      "name": "python"
    },
    "colab": {
      "provenance": []
    },
    "kernelspec": {
      "name": "python3",
      "display_name": "Python 3"
    }
  },
  "nbformat": 4,
  "nbformat_minor": 0
}