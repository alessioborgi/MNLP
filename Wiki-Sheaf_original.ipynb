{
  "cells": [
    {
      "cell_type": "markdown",
      "metadata": {
        "id": "14-_AO1SfqTv"
      },
      "source": [
        "# WIKI-SHEAF\n",
        "\n",
        "@ Alessio Borgi\n",
        "@ Stefano Previti"
      ]
    },
    {
      "cell_type": "markdown",
      "metadata": {
        "id": "m7sGiN2kf0Ga"
      },
      "source": [
        "### 0: IMPORTING LIBRARIES"
      ]
    },
    {
      "cell_type": "code",
      "execution_count": 1,
      "metadata": {
        "colab": {
          "base_uri": "https://localhost:8080/"
        },
        "id": "EMf2a6N1jYLc",
        "outputId": "b26fc05b-4494-44e0-e83d-e328b9d5eba0"
      },
      "outputs": [
        {
          "output_type": "stream",
          "name": "stdout",
          "text": [
            "Requirement already satisfied: requests in /usr/local/lib/python3.11/dist-packages (2.32.3)\n",
            "Collecting datasets\n",
            "  Downloading datasets-3.5.0-py3-none-any.whl.metadata (19 kB)\n",
            "Requirement already satisfied: networkx in /usr/local/lib/python3.11/dist-packages (3.4.2)\n",
            "Requirement already satisfied: matplotlib in /usr/local/lib/python3.11/dist-packages (3.10.0)\n",
            "Requirement already satisfied: torch in /usr/local/lib/python3.11/dist-packages (2.6.0+cu124)\n",
            "Collecting torch-geometric\n",
            "  Downloading torch_geometric-2.6.1-py3-none-any.whl.metadata (63 kB)\n",
            "\u001b[2K     \u001b[90m━━━━━━━━━━━━━━━━━━━━━━━━━━━━━━━━━━━━━━━━\u001b[0m \u001b[32m63.1/63.1 kB\u001b[0m \u001b[31m5.5 MB/s\u001b[0m eta \u001b[36m0:00:00\u001b[0m\n",
            "\u001b[?25hRequirement already satisfied: sentence-transformers in /usr/local/lib/python3.11/dist-packages (3.4.1)\n",
            "Requirement already satisfied: charset-normalizer<4,>=2 in /usr/local/lib/python3.11/dist-packages (from requests) (3.4.1)\n",
            "Requirement already satisfied: idna<4,>=2.5 in /usr/local/lib/python3.11/dist-packages (from requests) (3.10)\n",
            "Requirement already satisfied: urllib3<3,>=1.21.1 in /usr/local/lib/python3.11/dist-packages (from requests) (2.3.0)\n",
            "Requirement already satisfied: certifi>=2017.4.17 in /usr/local/lib/python3.11/dist-packages (from requests) (2025.1.31)\n",
            "Requirement already satisfied: filelock in /usr/local/lib/python3.11/dist-packages (from datasets) (3.18.0)\n",
            "Requirement already satisfied: numpy>=1.17 in /usr/local/lib/python3.11/dist-packages (from datasets) (2.0.2)\n",
            "Requirement already satisfied: pyarrow>=15.0.0 in /usr/local/lib/python3.11/dist-packages (from datasets) (18.1.0)\n",
            "Collecting dill<0.3.9,>=0.3.0 (from datasets)\n",
            "  Downloading dill-0.3.8-py3-none-any.whl.metadata (10 kB)\n",
            "Requirement already satisfied: pandas in /usr/local/lib/python3.11/dist-packages (from datasets) (2.2.2)\n",
            "Requirement already satisfied: tqdm>=4.66.3 in /usr/local/lib/python3.11/dist-packages (from datasets) (4.67.1)\n",
            "Collecting xxhash (from datasets)\n",
            "  Downloading xxhash-3.5.0-cp311-cp311-manylinux_2_17_x86_64.manylinux2014_x86_64.whl.metadata (12 kB)\n",
            "Collecting multiprocess<0.70.17 (from datasets)\n",
            "  Downloading multiprocess-0.70.16-py311-none-any.whl.metadata (7.2 kB)\n",
            "Collecting fsspec<=2024.12.0,>=2023.1.0 (from fsspec[http]<=2024.12.0,>=2023.1.0->datasets)\n",
            "  Downloading fsspec-2024.12.0-py3-none-any.whl.metadata (11 kB)\n",
            "Requirement already satisfied: aiohttp in /usr/local/lib/python3.11/dist-packages (from datasets) (3.11.15)\n",
            "Requirement already satisfied: huggingface-hub>=0.24.0 in /usr/local/lib/python3.11/dist-packages (from datasets) (0.30.2)\n",
            "Requirement already satisfied: packaging in /usr/local/lib/python3.11/dist-packages (from datasets) (24.2)\n",
            "Requirement already satisfied: pyyaml>=5.1 in /usr/local/lib/python3.11/dist-packages (from datasets) (6.0.2)\n",
            "Requirement already satisfied: contourpy>=1.0.1 in /usr/local/lib/python3.11/dist-packages (from matplotlib) (1.3.1)\n",
            "Requirement already satisfied: cycler>=0.10 in /usr/local/lib/python3.11/dist-packages (from matplotlib) (0.12.1)\n",
            "Requirement already satisfied: fonttools>=4.22.0 in /usr/local/lib/python3.11/dist-packages (from matplotlib) (4.57.0)\n",
            "Requirement already satisfied: kiwisolver>=1.3.1 in /usr/local/lib/python3.11/dist-packages (from matplotlib) (1.4.8)\n",
            "Requirement already satisfied: pillow>=8 in /usr/local/lib/python3.11/dist-packages (from matplotlib) (11.1.0)\n",
            "Requirement already satisfied: pyparsing>=2.3.1 in /usr/local/lib/python3.11/dist-packages (from matplotlib) (3.2.3)\n",
            "Requirement already satisfied: python-dateutil>=2.7 in /usr/local/lib/python3.11/dist-packages (from matplotlib) (2.8.2)\n",
            "Requirement already satisfied: typing-extensions>=4.10.0 in /usr/local/lib/python3.11/dist-packages (from torch) (4.13.1)\n",
            "Requirement already satisfied: jinja2 in /usr/local/lib/python3.11/dist-packages (from torch) (3.1.6)\n",
            "Collecting nvidia-cuda-nvrtc-cu12==12.4.127 (from torch)\n",
            "  Downloading nvidia_cuda_nvrtc_cu12-12.4.127-py3-none-manylinux2014_x86_64.whl.metadata (1.5 kB)\n",
            "Collecting nvidia-cuda-runtime-cu12==12.4.127 (from torch)\n",
            "  Downloading nvidia_cuda_runtime_cu12-12.4.127-py3-none-manylinux2014_x86_64.whl.metadata (1.5 kB)\n",
            "Collecting nvidia-cuda-cupti-cu12==12.4.127 (from torch)\n",
            "  Downloading nvidia_cuda_cupti_cu12-12.4.127-py3-none-manylinux2014_x86_64.whl.metadata (1.6 kB)\n",
            "Collecting nvidia-cudnn-cu12==9.1.0.70 (from torch)\n",
            "  Downloading nvidia_cudnn_cu12-9.1.0.70-py3-none-manylinux2014_x86_64.whl.metadata (1.6 kB)\n",
            "Collecting nvidia-cublas-cu12==12.4.5.8 (from torch)\n",
            "  Downloading nvidia_cublas_cu12-12.4.5.8-py3-none-manylinux2014_x86_64.whl.metadata (1.5 kB)\n",
            "Collecting nvidia-cufft-cu12==11.2.1.3 (from torch)\n",
            "  Downloading nvidia_cufft_cu12-11.2.1.3-py3-none-manylinux2014_x86_64.whl.metadata (1.5 kB)\n",
            "Collecting nvidia-curand-cu12==10.3.5.147 (from torch)\n",
            "  Downloading nvidia_curand_cu12-10.3.5.147-py3-none-manylinux2014_x86_64.whl.metadata (1.5 kB)\n",
            "Collecting nvidia-cusolver-cu12==11.6.1.9 (from torch)\n",
            "  Downloading nvidia_cusolver_cu12-11.6.1.9-py3-none-manylinux2014_x86_64.whl.metadata (1.6 kB)\n",
            "Collecting nvidia-cusparse-cu12==12.3.1.170 (from torch)\n",
            "  Downloading nvidia_cusparse_cu12-12.3.1.170-py3-none-manylinux2014_x86_64.whl.metadata (1.6 kB)\n",
            "Requirement already satisfied: nvidia-cusparselt-cu12==0.6.2 in /usr/local/lib/python3.11/dist-packages (from torch) (0.6.2)\n",
            "Requirement already satisfied: nvidia-nccl-cu12==2.21.5 in /usr/local/lib/python3.11/dist-packages (from torch) (2.21.5)\n",
            "Requirement already satisfied: nvidia-nvtx-cu12==12.4.127 in /usr/local/lib/python3.11/dist-packages (from torch) (12.4.127)\n",
            "Collecting nvidia-nvjitlink-cu12==12.4.127 (from torch)\n",
            "  Downloading nvidia_nvjitlink_cu12-12.4.127-py3-none-manylinux2014_x86_64.whl.metadata (1.5 kB)\n",
            "Requirement already satisfied: triton==3.2.0 in /usr/local/lib/python3.11/dist-packages (from torch) (3.2.0)\n",
            "Requirement already satisfied: sympy==1.13.1 in /usr/local/lib/python3.11/dist-packages (from torch) (1.13.1)\n",
            "Requirement already satisfied: mpmath<1.4,>=1.1.0 in /usr/local/lib/python3.11/dist-packages (from sympy==1.13.1->torch) (1.3.0)\n",
            "Requirement already satisfied: psutil>=5.8.0 in /usr/local/lib/python3.11/dist-packages (from torch-geometric) (5.9.5)\n",
            "Requirement already satisfied: transformers<5.0.0,>=4.41.0 in /usr/local/lib/python3.11/dist-packages (from sentence-transformers) (4.51.1)\n",
            "Requirement already satisfied: scikit-learn in /usr/local/lib/python3.11/dist-packages (from sentence-transformers) (1.6.1)\n",
            "Requirement already satisfied: scipy in /usr/local/lib/python3.11/dist-packages (from sentence-transformers) (1.14.1)\n",
            "Requirement already satisfied: aiohappyeyeballs>=2.3.0 in /usr/local/lib/python3.11/dist-packages (from aiohttp->datasets) (2.6.1)\n",
            "Requirement already satisfied: aiosignal>=1.1.2 in /usr/local/lib/python3.11/dist-packages (from aiohttp->datasets) (1.3.2)\n",
            "Requirement already satisfied: attrs>=17.3.0 in /usr/local/lib/python3.11/dist-packages (from aiohttp->datasets) (25.3.0)\n",
            "Requirement already satisfied: frozenlist>=1.1.1 in /usr/local/lib/python3.11/dist-packages (from aiohttp->datasets) (1.5.0)\n",
            "Requirement already satisfied: multidict<7.0,>=4.5 in /usr/local/lib/python3.11/dist-packages (from aiohttp->datasets) (6.4.2)\n",
            "Requirement already satisfied: propcache>=0.2.0 in /usr/local/lib/python3.11/dist-packages (from aiohttp->datasets) (0.3.1)\n",
            "Requirement already satisfied: yarl<2.0,>=1.17.0 in /usr/local/lib/python3.11/dist-packages (from aiohttp->datasets) (1.19.0)\n",
            "Requirement already satisfied: six>=1.5 in /usr/local/lib/python3.11/dist-packages (from python-dateutil>=2.7->matplotlib) (1.17.0)\n",
            "Requirement already satisfied: regex!=2019.12.17 in /usr/local/lib/python3.11/dist-packages (from transformers<5.0.0,>=4.41.0->sentence-transformers) (2024.11.6)\n",
            "Requirement already satisfied: tokenizers<0.22,>=0.21 in /usr/local/lib/python3.11/dist-packages (from transformers<5.0.0,>=4.41.0->sentence-transformers) (0.21.1)\n",
            "Requirement already satisfied: safetensors>=0.4.3 in /usr/local/lib/python3.11/dist-packages (from transformers<5.0.0,>=4.41.0->sentence-transformers) (0.5.3)\n",
            "Requirement already satisfied: MarkupSafe>=2.0 in /usr/local/lib/python3.11/dist-packages (from jinja2->torch) (3.0.2)\n",
            "Requirement already satisfied: pytz>=2020.1 in /usr/local/lib/python3.11/dist-packages (from pandas->datasets) (2025.2)\n",
            "Requirement already satisfied: tzdata>=2022.7 in /usr/local/lib/python3.11/dist-packages (from pandas->datasets) (2025.2)\n",
            "Requirement already satisfied: joblib>=1.2.0 in /usr/local/lib/python3.11/dist-packages (from scikit-learn->sentence-transformers) (1.4.2)\n",
            "Requirement already satisfied: threadpoolctl>=3.1.0 in /usr/local/lib/python3.11/dist-packages (from scikit-learn->sentence-transformers) (3.6.0)\n",
            "Downloading datasets-3.5.0-py3-none-any.whl (491 kB)\n",
            "\u001b[2K   \u001b[90m━━━━━━━━━━━━━━━━━━━━━━━━━━━━━━━━━━━━━━━━\u001b[0m \u001b[32m491.2/491.2 kB\u001b[0m \u001b[31m25.5 MB/s\u001b[0m eta \u001b[36m0:00:00\u001b[0m\n",
            "\u001b[?25hDownloading nvidia_cublas_cu12-12.4.5.8-py3-none-manylinux2014_x86_64.whl (363.4 MB)\n",
            "\u001b[2K   \u001b[90m━━━━━━━━━━━━━━━━━━━━━━━━━━━━━━━━━━━━━━━━\u001b[0m \u001b[32m363.4/363.4 MB\u001b[0m \u001b[31m4.3 MB/s\u001b[0m eta \u001b[36m0:00:00\u001b[0m\n",
            "\u001b[?25hDownloading nvidia_cuda_cupti_cu12-12.4.127-py3-none-manylinux2014_x86_64.whl (13.8 MB)\n",
            "\u001b[2K   \u001b[90m━━━━━━━━━━━━━━━━━━━━━━━━━━━━━━━━━━━━━━━━\u001b[0m \u001b[32m13.8/13.8 MB\u001b[0m \u001b[31m17.8 MB/s\u001b[0m eta \u001b[36m0:00:00\u001b[0m\n",
            "\u001b[?25hDownloading nvidia_cuda_nvrtc_cu12-12.4.127-py3-none-manylinux2014_x86_64.whl (24.6 MB)\n",
            "\u001b[2K   \u001b[90m━━━━━━━━━━━━━━━━━━━━━━━━━━━━━━━━━━━━━━━━\u001b[0m \u001b[32m24.6/24.6 MB\u001b[0m \u001b[31m48.3 MB/s\u001b[0m eta \u001b[36m0:00:00\u001b[0m\n",
            "\u001b[?25hDownloading nvidia_cuda_runtime_cu12-12.4.127-py3-none-manylinux2014_x86_64.whl (883 kB)\n",
            "\u001b[2K   \u001b[90m━━━━━━━━━━━━━━━━━━━━━━━━━━━━━━━━━━━━━━━━\u001b[0m \u001b[32m883.7/883.7 kB\u001b[0m \u001b[31m41.6 MB/s\u001b[0m eta \u001b[36m0:00:00\u001b[0m\n",
            "\u001b[?25hDownloading nvidia_cudnn_cu12-9.1.0.70-py3-none-manylinux2014_x86_64.whl (664.8 MB)\n",
            "\u001b[2K   \u001b[90m━━━━━━━━━━━━━━━━━━━━━━━━━━━━━━━━━━━━━━━━\u001b[0m \u001b[32m664.8/664.8 MB\u001b[0m \u001b[31m2.8 MB/s\u001b[0m eta \u001b[36m0:00:00\u001b[0m\n",
            "\u001b[?25hDownloading nvidia_cufft_cu12-11.2.1.3-py3-none-manylinux2014_x86_64.whl (211.5 MB)\n",
            "\u001b[2K   \u001b[90m━━━━━━━━━━━━━━━━━━━━━━━━━━━━━━━━━━━━━━━━\u001b[0m \u001b[32m211.5/211.5 MB\u001b[0m \u001b[31m5.6 MB/s\u001b[0m eta \u001b[36m0:00:00\u001b[0m\n",
            "\u001b[?25hDownloading nvidia_curand_cu12-10.3.5.147-py3-none-manylinux2014_x86_64.whl (56.3 MB)\n",
            "\u001b[2K   \u001b[90m━━━━━━━━━━━━━━━━━━━━━━━━━━━━━━━━━━━━━━━━\u001b[0m \u001b[32m56.3/56.3 MB\u001b[0m \u001b[31m13.2 MB/s\u001b[0m eta \u001b[36m0:00:00\u001b[0m\n",
            "\u001b[?25hDownloading nvidia_cusolver_cu12-11.6.1.9-py3-none-manylinux2014_x86_64.whl (127.9 MB)\n",
            "\u001b[2K   \u001b[90m━━━━━━━━━━━━━━━━━━━━━━━━━━━━━━━━━━━━━━━━\u001b[0m \u001b[32m127.9/127.9 MB\u001b[0m \u001b[31m7.6 MB/s\u001b[0m eta \u001b[36m0:00:00\u001b[0m\n",
            "\u001b[?25hDownloading nvidia_cusparse_cu12-12.3.1.170-py3-none-manylinux2014_x86_64.whl (207.5 MB)\n",
            "\u001b[2K   \u001b[90m━━━━━━━━━━━━━━━━━━━━━━━━━━━━━━━━━━━━━━━━\u001b[0m \u001b[32m207.5/207.5 MB\u001b[0m \u001b[31m5.5 MB/s\u001b[0m eta \u001b[36m0:00:00\u001b[0m\n",
            "\u001b[?25hDownloading nvidia_nvjitlink_cu12-12.4.127-py3-none-manylinux2014_x86_64.whl (21.1 MB)\n",
            "\u001b[2K   \u001b[90m━━━━━━━━━━━━━━━━━━━━━━━━━━━━━━━━━━━━━━━━\u001b[0m \u001b[32m21.1/21.1 MB\u001b[0m \u001b[31m87.0 MB/s\u001b[0m eta \u001b[36m0:00:00\u001b[0m\n",
            "\u001b[?25hDownloading torch_geometric-2.6.1-py3-none-any.whl (1.1 MB)\n",
            "\u001b[2K   \u001b[90m━━━━━━━━━━━━━━━━━━━━━━━━━━━━━━━━━━━━━━━━\u001b[0m \u001b[32m1.1/1.1 MB\u001b[0m \u001b[31m80.0 MB/s\u001b[0m eta \u001b[36m0:00:00\u001b[0m\n",
            "\u001b[?25hDownloading dill-0.3.8-py3-none-any.whl (116 kB)\n",
            "\u001b[2K   \u001b[90m━━━━━━━━━━━━━━━━━━━━━━━━━━━━━━━━━━━━━━━━\u001b[0m \u001b[32m116.3/116.3 kB\u001b[0m \u001b[31m15.3 MB/s\u001b[0m eta \u001b[36m0:00:00\u001b[0m\n",
            "\u001b[?25hDownloading fsspec-2024.12.0-py3-none-any.whl (183 kB)\n",
            "\u001b[2K   \u001b[90m━━━━━━━━━━━━━━━━━━━━━━━━━━━━━━━━━━━━━━━━\u001b[0m \u001b[32m183.9/183.9 kB\u001b[0m \u001b[31m22.7 MB/s\u001b[0m eta \u001b[36m0:00:00\u001b[0m\n",
            "\u001b[?25hDownloading multiprocess-0.70.16-py311-none-any.whl (143 kB)\n",
            "\u001b[2K   \u001b[90m━━━━━━━━━━━━━━━━━━━━━━━━━━━━━━━━━━━━━━━━\u001b[0m \u001b[32m143.5/143.5 kB\u001b[0m \u001b[31m19.3 MB/s\u001b[0m eta \u001b[36m0:00:00\u001b[0m\n",
            "\u001b[?25hDownloading xxhash-3.5.0-cp311-cp311-manylinux_2_17_x86_64.manylinux2014_x86_64.whl (194 kB)\n",
            "\u001b[2K   \u001b[90m━━━━━━━━━━━━━━━━━━━━━━━━━━━━━━━━━━━━━━━━\u001b[0m \u001b[32m194.8/194.8 kB\u001b[0m \u001b[31m19.4 MB/s\u001b[0m eta \u001b[36m0:00:00\u001b[0m\n",
            "\u001b[?25hInstalling collected packages: xxhash, nvidia-nvjitlink-cu12, nvidia-curand-cu12, nvidia-cufft-cu12, nvidia-cuda-runtime-cu12, nvidia-cuda-nvrtc-cu12, nvidia-cuda-cupti-cu12, nvidia-cublas-cu12, fsspec, dill, nvidia-cusparse-cu12, nvidia-cudnn-cu12, multiprocess, torch-geometric, nvidia-cusolver-cu12, datasets\n",
            "  Attempting uninstall: nvidia-nvjitlink-cu12\n",
            "    Found existing installation: nvidia-nvjitlink-cu12 12.5.82\n",
            "    Uninstalling nvidia-nvjitlink-cu12-12.5.82:\n",
            "      Successfully uninstalled nvidia-nvjitlink-cu12-12.5.82\n",
            "  Attempting uninstall: nvidia-curand-cu12\n",
            "    Found existing installation: nvidia-curand-cu12 10.3.6.82\n",
            "    Uninstalling nvidia-curand-cu12-10.3.6.82:\n",
            "      Successfully uninstalled nvidia-curand-cu12-10.3.6.82\n",
            "  Attempting uninstall: nvidia-cufft-cu12\n",
            "    Found existing installation: nvidia-cufft-cu12 11.2.3.61\n",
            "    Uninstalling nvidia-cufft-cu12-11.2.3.61:\n",
            "      Successfully uninstalled nvidia-cufft-cu12-11.2.3.61\n",
            "  Attempting uninstall: nvidia-cuda-runtime-cu12\n",
            "    Found existing installation: nvidia-cuda-runtime-cu12 12.5.82\n",
            "    Uninstalling nvidia-cuda-runtime-cu12-12.5.82:\n",
            "      Successfully uninstalled nvidia-cuda-runtime-cu12-12.5.82\n",
            "  Attempting uninstall: nvidia-cuda-nvrtc-cu12\n",
            "    Found existing installation: nvidia-cuda-nvrtc-cu12 12.5.82\n",
            "    Uninstalling nvidia-cuda-nvrtc-cu12-12.5.82:\n",
            "      Successfully uninstalled nvidia-cuda-nvrtc-cu12-12.5.82\n",
            "  Attempting uninstall: nvidia-cuda-cupti-cu12\n",
            "    Found existing installation: nvidia-cuda-cupti-cu12 12.5.82\n",
            "    Uninstalling nvidia-cuda-cupti-cu12-12.5.82:\n",
            "      Successfully uninstalled nvidia-cuda-cupti-cu12-12.5.82\n",
            "  Attempting uninstall: nvidia-cublas-cu12\n",
            "    Found existing installation: nvidia-cublas-cu12 12.5.3.2\n",
            "    Uninstalling nvidia-cublas-cu12-12.5.3.2:\n",
            "      Successfully uninstalled nvidia-cublas-cu12-12.5.3.2\n",
            "  Attempting uninstall: fsspec\n",
            "    Found existing installation: fsspec 2025.3.2\n",
            "    Uninstalling fsspec-2025.3.2:\n",
            "      Successfully uninstalled fsspec-2025.3.2\n",
            "  Attempting uninstall: nvidia-cusparse-cu12\n",
            "    Found existing installation: nvidia-cusparse-cu12 12.5.1.3\n",
            "    Uninstalling nvidia-cusparse-cu12-12.5.1.3:\n",
            "      Successfully uninstalled nvidia-cusparse-cu12-12.5.1.3\n",
            "  Attempting uninstall: nvidia-cudnn-cu12\n",
            "    Found existing installation: nvidia-cudnn-cu12 9.3.0.75\n",
            "    Uninstalling nvidia-cudnn-cu12-9.3.0.75:\n",
            "      Successfully uninstalled nvidia-cudnn-cu12-9.3.0.75\n",
            "  Attempting uninstall: nvidia-cusolver-cu12\n",
            "    Found existing installation: nvidia-cusolver-cu12 11.6.3.83\n",
            "    Uninstalling nvidia-cusolver-cu12-11.6.3.83:\n",
            "      Successfully uninstalled nvidia-cusolver-cu12-11.6.3.83\n",
            "\u001b[31mERROR: pip's dependency resolver does not currently take into account all the packages that are installed. This behaviour is the source of the following dependency conflicts.\n",
            "gcsfs 2025.3.2 requires fsspec==2025.3.2, but you have fsspec 2024.12.0 which is incompatible.\u001b[0m\u001b[31m\n",
            "\u001b[0mSuccessfully installed datasets-3.5.0 dill-0.3.8 fsspec-2024.12.0 multiprocess-0.70.16 nvidia-cublas-cu12-12.4.5.8 nvidia-cuda-cupti-cu12-12.4.127 nvidia-cuda-nvrtc-cu12-12.4.127 nvidia-cuda-runtime-cu12-12.4.127 nvidia-cudnn-cu12-9.1.0.70 nvidia-cufft-cu12-11.2.1.3 nvidia-curand-cu12-10.3.5.147 nvidia-cusolver-cu12-11.6.1.9 nvidia-cusparse-cu12-12.3.1.170 nvidia-nvjitlink-cu12-12.4.127 torch-geometric-2.6.1 xxhash-3.5.0\n"
          ]
        }
      ],
      "source": [
        "!pip install requests datasets networkx matplotlib torch torch-geometric sentence-transformers"
      ]
    },
    {
      "cell_type": "code",
      "execution_count": 2,
      "metadata": {
        "colab": {
          "base_uri": "https://localhost:8080/",
          "height": 365
        },
        "id": "UKHdIluDlZ-a",
        "outputId": "788c6bba-2459-441c-bb97-fa9bfce45e01"
      },
      "outputs": [
        {
          "output_type": "error",
          "ename": "ValueError",
          "evalue": "mount failed",
          "traceback": [
            "\u001b[0;31m---------------------------------------------------------------------------\u001b[0m",
            "\u001b[0;31mValueError\u001b[0m                                Traceback (most recent call last)",
            "\u001b[0;32m<ipython-input-2-03cb46520b44>\u001b[0m in \u001b[0;36m<cell line: 0>\u001b[0;34m()\u001b[0m\n\u001b[1;32m      6\u001b[0m \u001b[0;31m# Only necessary if you take the dataset from the drive instead from HuggingFace.\u001b[0m\u001b[0;34m\u001b[0m\u001b[0;34m\u001b[0m\u001b[0m\n\u001b[1;32m      7\u001b[0m \u001b[0;32mfrom\u001b[0m \u001b[0mgoogle\u001b[0m\u001b[0;34m.\u001b[0m\u001b[0mcolab\u001b[0m \u001b[0;32mimport\u001b[0m \u001b[0mdrive\u001b[0m\u001b[0;34m\u001b[0m\u001b[0;34m\u001b[0m\u001b[0m\n\u001b[0;32m----> 8\u001b[0;31m \u001b[0mdrive\u001b[0m\u001b[0;34m.\u001b[0m\u001b[0mmount\u001b[0m\u001b[0;34m(\u001b[0m\u001b[0;34m'/content/drive'\u001b[0m\u001b[0;34m)\u001b[0m\u001b[0;34m\u001b[0m\u001b[0;34m\u001b[0m\u001b[0m\n\u001b[0m\u001b[1;32m      9\u001b[0m \u001b[0;34m\u001b[0m\u001b[0m\n\u001b[1;32m     10\u001b[0m \u001b[0;31m### LIBRARIES NECESSARY FROM STEP 2 ON ###\u001b[0m\u001b[0;34m\u001b[0m\u001b[0;34m\u001b[0m\u001b[0m\n",
            "\u001b[0;32m/usr/local/lib/python3.11/dist-packages/google/colab/drive.py\u001b[0m in \u001b[0;36mmount\u001b[0;34m(mountpoint, force_remount, timeout_ms, readonly)\u001b[0m\n\u001b[1;32m     98\u001b[0m \u001b[0;32mdef\u001b[0m \u001b[0mmount\u001b[0m\u001b[0;34m(\u001b[0m\u001b[0mmountpoint\u001b[0m\u001b[0;34m,\u001b[0m \u001b[0mforce_remount\u001b[0m\u001b[0;34m=\u001b[0m\u001b[0;32mFalse\u001b[0m\u001b[0;34m,\u001b[0m \u001b[0mtimeout_ms\u001b[0m\u001b[0;34m=\u001b[0m\u001b[0;36m120000\u001b[0m\u001b[0;34m,\u001b[0m \u001b[0mreadonly\u001b[0m\u001b[0;34m=\u001b[0m\u001b[0;32mFalse\u001b[0m\u001b[0;34m)\u001b[0m\u001b[0;34m:\u001b[0m\u001b[0;34m\u001b[0m\u001b[0;34m\u001b[0m\u001b[0m\n\u001b[1;32m     99\u001b[0m   \u001b[0;34m\"\"\"Mount your Google Drive at the specified mountpoint path.\"\"\"\u001b[0m\u001b[0;34m\u001b[0m\u001b[0;34m\u001b[0m\u001b[0m\n\u001b[0;32m--> 100\u001b[0;31m   return _mount(\n\u001b[0m\u001b[1;32m    101\u001b[0m       \u001b[0mmountpoint\u001b[0m\u001b[0;34m,\u001b[0m\u001b[0;34m\u001b[0m\u001b[0;34m\u001b[0m\u001b[0m\n\u001b[1;32m    102\u001b[0m       \u001b[0mforce_remount\u001b[0m\u001b[0;34m=\u001b[0m\u001b[0mforce_remount\u001b[0m\u001b[0;34m,\u001b[0m\u001b[0;34m\u001b[0m\u001b[0;34m\u001b[0m\u001b[0m\n",
            "\u001b[0;32m/usr/local/lib/python3.11/dist-packages/google/colab/drive.py\u001b[0m in \u001b[0;36m_mount\u001b[0;34m(mountpoint, force_remount, timeout_ms, ephemeral, readonly)\u001b[0m\n\u001b[1;32m    277\u001b[0m             \u001b[0;34m'https://research.google.com/colaboratory/faq.html#drive-timeout'\u001b[0m\u001b[0;34m\u001b[0m\u001b[0;34m\u001b[0m\u001b[0m\n\u001b[1;32m    278\u001b[0m         )\n\u001b[0;32m--> 279\u001b[0;31m       \u001b[0;32mraise\u001b[0m \u001b[0mValueError\u001b[0m\u001b[0;34m(\u001b[0m\u001b[0;34m'mount failed'\u001b[0m \u001b[0;34m+\u001b[0m \u001b[0mextra_reason\u001b[0m\u001b[0;34m)\u001b[0m\u001b[0;34m\u001b[0m\u001b[0;34m\u001b[0m\u001b[0m\n\u001b[0m\u001b[1;32m    280\u001b[0m     \u001b[0;32melif\u001b[0m \u001b[0mcase\u001b[0m \u001b[0;34m==\u001b[0m \u001b[0;36m4\u001b[0m\u001b[0;34m:\u001b[0m\u001b[0;34m\u001b[0m\u001b[0;34m\u001b[0m\u001b[0m\n\u001b[1;32m    281\u001b[0m       \u001b[0;31m# Terminate the DriveFS binary before killing bash.\u001b[0m\u001b[0;34m\u001b[0m\u001b[0;34m\u001b[0m\u001b[0m\n",
            "\u001b[0;31mValueError\u001b[0m: mount failed"
          ]
        }
      ],
      "source": [
        "### LIBRARIES NECESSARY FROM STEP 0 ON ###\n",
        "import pandas as pd\n",
        "import matplotlib.pyplot as plt\n",
        "from datasets import load_dataset\n",
        "\n",
        "# Only necessary if you take the dataset from the drive instead from HuggingFace.\n",
        "from google.colab import drive\n",
        "drive.mount('/content/drive')\n",
        "\n",
        "### LIBRARIES NECESSARY FROM STEP 2 ON ###\n",
        "import torch\n",
        "import random\n",
        "import itertools\n",
        "import networkx as nx\n",
        "from torch_geometric.utils import from_networkx\n",
        "from sklearn.feature_extraction.text import TfidfVectorizer\n",
        "\n",
        "import os\n",
        "import torch\n",
        "import numpy as np\n",
        "import torch.nn.functional as F\n",
        "from torch.nn import Linear, BatchNorm1d, Sequential, ReLU, Dropout\n",
        "from sklearn.metrics import precision_score, recall_score, f1_score\n",
        "from torch_geometric.nn import GCNConv, BatchNorm, GATConv, SAGEConv, GINConv\n",
        "\n",
        "\n",
        "#import torch\n",
        "#import torch.nn.functional as F\n",
        "#import matplotlib.pyplot as plt\n",
        "#from torch_geometric.data import HeteroData\n",
        "#from torch_geometric.utils import to_networkx\n",
        "#from sentence_transformers import SentenceTransformer\n",
        "\n",
        "\n",
        "\n"
      ]
    },
    {
      "cell_type": "markdown",
      "metadata": {
        "id": "JzVeeYDCjjkx"
      },
      "source": [
        "### 0.5: TRAINING SET LOADING, INSPECTION & DISCOVERY\n",
        "\n",
        "We make some exploration from the dataset. In the first version of the data provided, we noticed the following \"issues\". The first and second problems have been solved with the introduction of the new dataset version, while the third and fourth (actually not being problems, but dataset features), still persist.\n",
        "\n",
        "**NaN LABEL PRESENCE**\n",
        "\n",
        "As first thing we noticed that there are 7 rows that are all missing the \"label\" value.\n",
        "- We decide to eliminate directly these lines since they are both not useful if they are not providing a label and are only very few outliers (7/6251), due to maybe errors in the labeling step.\n",
        "\n",
        "**LABEL INCONSISTENCIES**\n",
        "\n",
        "The list of the labels are not actually really containig only 3 labels. Indeed, by making a set operation over the \"labels\" column, we noticed that it contains: *{'cultural exclusive', 'cultural', 'cultural agnostic', 'cult', 'cultural representative', 'cultural agn', 'cultural represent', 'cultural ex', 'cultural ag'}*.\n",
        "  - We decided to counteract this issue by **mantaining only the 3 labels** *{'cultural exclusive', 'cultural representative', 'cultural agnostic'}*.\n",
        "  - For the lines whose labels are *{'cultural agn', 'cultural ag'}*, the labels are sobstituted with \"cultural agnostic\".\n",
        "  - For the lines whose labels are *{'cultural represent'}*, the labels are sobstituted with *{'cultural representative'}*.\n",
        "  - For the lines whose labels are *{'cultural ex'}*, the labels are sobstituted with *{'cultural exclusive'}*.\n",
        "  - For the lines whose labels are *{'cultural', 'nan', 'cult'}*, we decided to directly drop them.\n",
        "\n",
        "(Notice that these labels inconsistencies are really outliers. Indeed, we will remain with out dataset being **6238 samples** long).\n",
        "\n",
        "**CLASS IMBALANCE**\n",
        "\n",
        "After this cleaning, we notice that the samples we have at our disposal is not provided in an equal manner, but we have instead a **Class Imbalance** issue, Due to the fact that this is not so imbalanced, we decide to just take this into account at **Training Time**, in the future model, by using a **Class Weighting** in the **Loss Function** (e.g., *Weighted Cross-Entropy*).\n",
        "\n",
        "**NAME DUPLICATES**\n",
        "\n",
        "We also notice that the dataset contains duplicates in the \"name\" column, meaning that there are some words that have a different meaning depending on the context. Since these are very few, we decide to mantain them and not to delete them (also because would be wrong to do this).\n",
        "\n"
      ]
    },
    {
      "cell_type": "markdown",
      "source": [
        "##### 0.5.0: UTILS FUNCTIONS"
      ],
      "metadata": {
        "id": "abJ0OZVNiMft"
      }
    },
    {
      "cell_type": "code",
      "source": [
        "def check_nan_labels(df):\n",
        "    ''' Util function to check nan label presence. '''\n",
        "\n",
        "    # 1) Count missing values per column and print them out.\n",
        "    print(\"=== NaN LABEL PRESENCE ===\")\n",
        "    missing_counts = df.isnull().sum()\n",
        "    total_missing = missing_counts.sum()\n",
        "    print(f\"Total missing values in the DataFrame: {total_missing}\\n\")\n",
        "    print(\"Missing values by column:\")\n",
        "    print(missing_counts)\n",
        "    print(\"\\nRows with missing values and the respective columns:\")\n",
        "    for idx, row in df.iterrows():\n",
        "        missing_cols = row[row.isnull()].index.tolist()\n",
        "        if missing_cols:\n",
        "            print(f\"Row {idx}: {missing_cols}\")\n",
        "\n",
        "    # 2) SOLUTION ADOPTED: Drop the rows containing NaN.\n",
        "    print(\"DataFrame shape before dropping rows with NaN:\", df.shape)\n",
        "    df = df.dropna()\n",
        "    print(\"DataFrame shape after dropping rows with NaN:\", df.shape)\n",
        "    print(\"====== END =====\\n\")\n",
        "    return df"
      ],
      "metadata": {
        "id": "JUeRqBSdcOeN"
      },
      "execution_count": null,
      "outputs": []
    },
    {
      "cell_type": "code",
      "source": [
        "def check_labels_inconsistencies(df):\n",
        "    ''' Utils function to check whether the labels present inconsistencies. '''\n",
        "\n",
        "    print(\"=== LABEL INCONSISTENCIES PRESENCE ===\")\n",
        "    # 1) Label Inconsistencies discovery.\n",
        "    print(\"Original unique labels:\")\n",
        "    print(set(df[\"label\"].dropna().unique()))\n",
        "\n",
        "    # Make a copy of the DataFrame to avoid SettingWithCopyWarning.\n",
        "    df_clean = df.copy()\n",
        "\n",
        "    # 2) Define the mapping for substitutions and replace labels.\n",
        "    mapping = {\n",
        "        \"cultural agn\": \"cultural agnostic\",\n",
        "        \"cultural ag\": \"cultural agnostic\",\n",
        "        \"cultural represent\": \"cultural representative\",\n",
        "        \"cultural ex\": \"cultural exclusive\"\n",
        "    }\n",
        "\n",
        "    df_clean.loc[:, \"label\"] = df_clean[\"label\"].replace(mapping)\n",
        "\n",
        "    # 3) Drop the ambiguous rows.\n",
        "    drop_set = {\"cultural\", \"cult\"}\n",
        "    print(\"DataFrame shape before dropping rows with ambiguous labels:\", df_clean.shape)\n",
        "    df_clean = df_clean[~df_clean[\"label\"].isin(drop_set)]\n",
        "    print(\"DataFrame shape after dropping rows with ambiguous labels:\", df_clean.shape)\n",
        "\n",
        "    valid_labels = {\"cultural exclusive\", \"cultural representative\", \"cultural agnostic\"}\n",
        "    df_clean = df_clean[df_clean[\"label\"].isin(valid_labels)]\n",
        "\n",
        "    print(\"\\nUnique labels after cleaning:\")\n",
        "    print(set(df_clean[\"label\"].unique()))\n",
        "    df = df_clean.copy()\n",
        "    print(\"====== END =====\\n\")\n",
        "    return df"
      ],
      "metadata": {
        "id": "XCL_rCzmcSGi"
      },
      "execution_count": null,
      "outputs": []
    },
    {
      "cell_type": "code",
      "source": [
        "def visualize_class_imbalance(df):\n",
        "    ''' Utils function to visualize the Class Imbalance Distribution with a Histogram. '''\n",
        "    # 1) Count the occurrences of each label.\n",
        "    label_counts = df[\"label\"].value_counts()\n",
        "    print(\"\\nLabel Counts:\")\n",
        "    print(label_counts)\n",
        "\n",
        "    # 2) Visualize the label distribution.\n",
        "    plt.figure(figsize=(8, 6))\n",
        "    label_counts.plot(kind='bar', color='skyblue')\n",
        "    plt.xlabel('Labels')\n",
        "    plt.ylabel('Count')\n",
        "    plt.title('Distribution of Labels in the Dataset (After Cleaning)')\n",
        "    plt.xticks(rotation=45)\n",
        "    plt.tight_layout()\n",
        "    plt.show()"
      ],
      "metadata": {
        "id": "tasxopL-cWDe"
      },
      "execution_count": null,
      "outputs": []
    },
    {
      "cell_type": "code",
      "source": [
        "def check_duplicates(df):\n",
        "    ''' Utils function to check for duplicates. '''\n",
        "    # Check for duplicates in the \"name\" column.\n",
        "    duplicate_mask = df[\"name\"].duplicated(keep=False)\n",
        "    duplicates = df.loc[duplicate_mask, \"name\"].unique()\n",
        "    print(\"Cells that are not unique in column 'name':\")\n",
        "    print(duplicates)"
      ],
      "metadata": {
        "id": "s_gIgIO2cYIm"
      },
      "execution_count": null,
      "outputs": []
    },
    {
      "cell_type": "markdown",
      "metadata": {
        "id": "65V8l5oOGvuK"
      },
      "source": [
        "#### 0.5: OLD-VERSION (DATASET)"
      ]
    },
    {
      "cell_type": "markdown",
      "metadata": {
        "id": "KHNpOuGAtkHp"
      },
      "source": [
        "##### 0.5.0: SETUP STEP"
      ]
    },
    {
      "cell_type": "code",
      "execution_count": null,
      "metadata": {
        "id": "O3zwk_Ddkafb"
      },
      "outputs": [],
      "source": [
        "### SETUP STEP ###\n",
        "\n",
        "# ADJUST VALUES ACCORDING TO YOUR CASE #\n",
        "\n",
        "# Adjust the path to the training dataset(file) according to your directory structure.\n",
        "file_path = '/content/drive/MyDrive/MNLP/HW1/[MNLP 2025 HW1] train set [PUBLIC] - train_cleaned.tsv'\n"
      ]
    },
    {
      "cell_type": "code",
      "execution_count": null,
      "metadata": {
        "colab": {
          "base_uri": "https://localhost:8080/",
          "height": 293
        },
        "id": "9r-PVH0ssUw6",
        "outputId": "6480d2b5-e474-4791-da6f-95df9669cd69"
      },
      "outputs": [
        {
          "output_type": "execute_result",
          "data": {
            "text/plain": [
              "                                    item                name  \\\n",
              "0    http://www.wikidata.org/entity/Q306    Sebastián Piñera   \n",
              "1  http://www.wikidata.org/entity/Q12735  John Amos Comenius   \n",
              "2   http://www.wikidata.org/entity/Q1752            Macrinus   \n",
              "3   http://www.wikidata.org/entity/Q1639        Lamine Diack   \n",
              "4   http://www.wikidata.org/entity/Q9588       Richard Nixon   \n",
              "\n",
              "                                         description    type  category  \\\n",
              "0    Chilean entrepreneur and politician (1949–2024)  entity  politics   \n",
              "1  Czech teacher, educator, philosopher and write...  entity  politics   \n",
              "2                      Roman emperor from 217 to 218  entity  politics   \n",
              "3              Senegalese sports manager (1933–2021)  entity  politics   \n",
              "4   President of the United States from 1969 to 1974  entity  politics   \n",
              "\n",
              "  subcategory                    label  \n",
              "0  politician       cultural exclusive  \n",
              "1  politician  cultural representative  \n",
              "2  politician  cultural representative  \n",
              "3  politician  cultural representative  \n",
              "4  politician  cultural representative  "
            ],
            "text/html": [
              "\n",
              "  <div id=\"df-9270a3c1-0000-48e1-b21a-6ecdbe23f4eb\" class=\"colab-df-container\">\n",
              "    <div>\n",
              "<style scoped>\n",
              "    .dataframe tbody tr th:only-of-type {\n",
              "        vertical-align: middle;\n",
              "    }\n",
              "\n",
              "    .dataframe tbody tr th {\n",
              "        vertical-align: top;\n",
              "    }\n",
              "\n",
              "    .dataframe thead th {\n",
              "        text-align: right;\n",
              "    }\n",
              "</style>\n",
              "<table border=\"1\" class=\"dataframe\">\n",
              "  <thead>\n",
              "    <tr style=\"text-align: right;\">\n",
              "      <th></th>\n",
              "      <th>item</th>\n",
              "      <th>name</th>\n",
              "      <th>description</th>\n",
              "      <th>type</th>\n",
              "      <th>category</th>\n",
              "      <th>subcategory</th>\n",
              "      <th>label</th>\n",
              "    </tr>\n",
              "  </thead>\n",
              "  <tbody>\n",
              "    <tr>\n",
              "      <th>0</th>\n",
              "      <td>http://www.wikidata.org/entity/Q306</td>\n",
              "      <td>Sebastián Piñera</td>\n",
              "      <td>Chilean entrepreneur and politician (1949–2024)</td>\n",
              "      <td>entity</td>\n",
              "      <td>politics</td>\n",
              "      <td>politician</td>\n",
              "      <td>cultural exclusive</td>\n",
              "    </tr>\n",
              "    <tr>\n",
              "      <th>1</th>\n",
              "      <td>http://www.wikidata.org/entity/Q12735</td>\n",
              "      <td>John Amos Comenius</td>\n",
              "      <td>Czech teacher, educator, philosopher and write...</td>\n",
              "      <td>entity</td>\n",
              "      <td>politics</td>\n",
              "      <td>politician</td>\n",
              "      <td>cultural representative</td>\n",
              "    </tr>\n",
              "    <tr>\n",
              "      <th>2</th>\n",
              "      <td>http://www.wikidata.org/entity/Q1752</td>\n",
              "      <td>Macrinus</td>\n",
              "      <td>Roman emperor from 217 to 218</td>\n",
              "      <td>entity</td>\n",
              "      <td>politics</td>\n",
              "      <td>politician</td>\n",
              "      <td>cultural representative</td>\n",
              "    </tr>\n",
              "    <tr>\n",
              "      <th>3</th>\n",
              "      <td>http://www.wikidata.org/entity/Q1639</td>\n",
              "      <td>Lamine Diack</td>\n",
              "      <td>Senegalese sports manager (1933–2021)</td>\n",
              "      <td>entity</td>\n",
              "      <td>politics</td>\n",
              "      <td>politician</td>\n",
              "      <td>cultural representative</td>\n",
              "    </tr>\n",
              "    <tr>\n",
              "      <th>4</th>\n",
              "      <td>http://www.wikidata.org/entity/Q9588</td>\n",
              "      <td>Richard Nixon</td>\n",
              "      <td>President of the United States from 1969 to 1974</td>\n",
              "      <td>entity</td>\n",
              "      <td>politics</td>\n",
              "      <td>politician</td>\n",
              "      <td>cultural representative</td>\n",
              "    </tr>\n",
              "  </tbody>\n",
              "</table>\n",
              "</div>\n",
              "    <div class=\"colab-df-buttons\">\n",
              "\n",
              "  <div class=\"colab-df-container\">\n",
              "    <button class=\"colab-df-convert\" onclick=\"convertToInteractive('df-9270a3c1-0000-48e1-b21a-6ecdbe23f4eb')\"\n",
              "            title=\"Convert this dataframe to an interactive table.\"\n",
              "            style=\"display:none;\">\n",
              "\n",
              "  <svg xmlns=\"http://www.w3.org/2000/svg\" height=\"24px\" viewBox=\"0 -960 960 960\">\n",
              "    <path d=\"M120-120v-720h720v720H120Zm60-500h600v-160H180v160Zm220 220h160v-160H400v160Zm0 220h160v-160H400v160ZM180-400h160v-160H180v160Zm440 0h160v-160H620v160ZM180-180h160v-160H180v160Zm440 0h160v-160H620v160Z\"/>\n",
              "  </svg>\n",
              "    </button>\n",
              "\n",
              "  <style>\n",
              "    .colab-df-container {\n",
              "      display:flex;\n",
              "      gap: 12px;\n",
              "    }\n",
              "\n",
              "    .colab-df-convert {\n",
              "      background-color: #E8F0FE;\n",
              "      border: none;\n",
              "      border-radius: 50%;\n",
              "      cursor: pointer;\n",
              "      display: none;\n",
              "      fill: #1967D2;\n",
              "      height: 32px;\n",
              "      padding: 0 0 0 0;\n",
              "      width: 32px;\n",
              "    }\n",
              "\n",
              "    .colab-df-convert:hover {\n",
              "      background-color: #E2EBFA;\n",
              "      box-shadow: 0px 1px 2px rgba(60, 64, 67, 0.3), 0px 1px 3px 1px rgba(60, 64, 67, 0.15);\n",
              "      fill: #174EA6;\n",
              "    }\n",
              "\n",
              "    .colab-df-buttons div {\n",
              "      margin-bottom: 4px;\n",
              "    }\n",
              "\n",
              "    [theme=dark] .colab-df-convert {\n",
              "      background-color: #3B4455;\n",
              "      fill: #D2E3FC;\n",
              "    }\n",
              "\n",
              "    [theme=dark] .colab-df-convert:hover {\n",
              "      background-color: #434B5C;\n",
              "      box-shadow: 0px 1px 3px 1px rgba(0, 0, 0, 0.15);\n",
              "      filter: drop-shadow(0px 1px 2px rgba(0, 0, 0, 0.3));\n",
              "      fill: #FFFFFF;\n",
              "    }\n",
              "  </style>\n",
              "\n",
              "    <script>\n",
              "      const buttonEl =\n",
              "        document.querySelector('#df-9270a3c1-0000-48e1-b21a-6ecdbe23f4eb button.colab-df-convert');\n",
              "      buttonEl.style.display =\n",
              "        google.colab.kernel.accessAllowed ? 'block' : 'none';\n",
              "\n",
              "      async function convertToInteractive(key) {\n",
              "        const element = document.querySelector('#df-9270a3c1-0000-48e1-b21a-6ecdbe23f4eb');\n",
              "        const dataTable =\n",
              "          await google.colab.kernel.invokeFunction('convertToInteractive',\n",
              "                                                    [key], {});\n",
              "        if (!dataTable) return;\n",
              "\n",
              "        const docLinkHtml = 'Like what you see? Visit the ' +\n",
              "          '<a target=\"_blank\" href=https://colab.research.google.com/notebooks/data_table.ipynb>data table notebook</a>'\n",
              "          + ' to learn more about interactive tables.';\n",
              "        element.innerHTML = '';\n",
              "        dataTable['output_type'] = 'display_data';\n",
              "        await google.colab.output.renderOutput(dataTable, element);\n",
              "        const docLink = document.createElement('div');\n",
              "        docLink.innerHTML = docLinkHtml;\n",
              "        element.appendChild(docLink);\n",
              "      }\n",
              "    </script>\n",
              "  </div>\n",
              "\n",
              "\n",
              "<div id=\"df-04a9cf56-a98b-41fe-8a17-c3ad4dbddc15\">\n",
              "  <button class=\"colab-df-quickchart\" onclick=\"quickchart('df-04a9cf56-a98b-41fe-8a17-c3ad4dbddc15')\"\n",
              "            title=\"Suggest charts\"\n",
              "            style=\"display:none;\">\n",
              "\n",
              "<svg xmlns=\"http://www.w3.org/2000/svg\" height=\"24px\"viewBox=\"0 0 24 24\"\n",
              "     width=\"24px\">\n",
              "    <g>\n",
              "        <path d=\"M19 3H5c-1.1 0-2 .9-2 2v14c0 1.1.9 2 2 2h14c1.1 0 2-.9 2-2V5c0-1.1-.9-2-2-2zM9 17H7v-7h2v7zm4 0h-2V7h2v10zm4 0h-2v-4h2v4z\"/>\n",
              "    </g>\n",
              "</svg>\n",
              "  </button>\n",
              "\n",
              "<style>\n",
              "  .colab-df-quickchart {\n",
              "      --bg-color: #E8F0FE;\n",
              "      --fill-color: #1967D2;\n",
              "      --hover-bg-color: #E2EBFA;\n",
              "      --hover-fill-color: #174EA6;\n",
              "      --disabled-fill-color: #AAA;\n",
              "      --disabled-bg-color: #DDD;\n",
              "  }\n",
              "\n",
              "  [theme=dark] .colab-df-quickchart {\n",
              "      --bg-color: #3B4455;\n",
              "      --fill-color: #D2E3FC;\n",
              "      --hover-bg-color: #434B5C;\n",
              "      --hover-fill-color: #FFFFFF;\n",
              "      --disabled-bg-color: #3B4455;\n",
              "      --disabled-fill-color: #666;\n",
              "  }\n",
              "\n",
              "  .colab-df-quickchart {\n",
              "    background-color: var(--bg-color);\n",
              "    border: none;\n",
              "    border-radius: 50%;\n",
              "    cursor: pointer;\n",
              "    display: none;\n",
              "    fill: var(--fill-color);\n",
              "    height: 32px;\n",
              "    padding: 0;\n",
              "    width: 32px;\n",
              "  }\n",
              "\n",
              "  .colab-df-quickchart:hover {\n",
              "    background-color: var(--hover-bg-color);\n",
              "    box-shadow: 0 1px 2px rgba(60, 64, 67, 0.3), 0 1px 3px 1px rgba(60, 64, 67, 0.15);\n",
              "    fill: var(--button-hover-fill-color);\n",
              "  }\n",
              "\n",
              "  .colab-df-quickchart-complete:disabled,\n",
              "  .colab-df-quickchart-complete:disabled:hover {\n",
              "    background-color: var(--disabled-bg-color);\n",
              "    fill: var(--disabled-fill-color);\n",
              "    box-shadow: none;\n",
              "  }\n",
              "\n",
              "  .colab-df-spinner {\n",
              "    border: 2px solid var(--fill-color);\n",
              "    border-color: transparent;\n",
              "    border-bottom-color: var(--fill-color);\n",
              "    animation:\n",
              "      spin 1s steps(1) infinite;\n",
              "  }\n",
              "\n",
              "  @keyframes spin {\n",
              "    0% {\n",
              "      border-color: transparent;\n",
              "      border-bottom-color: var(--fill-color);\n",
              "      border-left-color: var(--fill-color);\n",
              "    }\n",
              "    20% {\n",
              "      border-color: transparent;\n",
              "      border-left-color: var(--fill-color);\n",
              "      border-top-color: var(--fill-color);\n",
              "    }\n",
              "    30% {\n",
              "      border-color: transparent;\n",
              "      border-left-color: var(--fill-color);\n",
              "      border-top-color: var(--fill-color);\n",
              "      border-right-color: var(--fill-color);\n",
              "    }\n",
              "    40% {\n",
              "      border-color: transparent;\n",
              "      border-right-color: var(--fill-color);\n",
              "      border-top-color: var(--fill-color);\n",
              "    }\n",
              "    60% {\n",
              "      border-color: transparent;\n",
              "      border-right-color: var(--fill-color);\n",
              "    }\n",
              "    80% {\n",
              "      border-color: transparent;\n",
              "      border-right-color: var(--fill-color);\n",
              "      border-bottom-color: var(--fill-color);\n",
              "    }\n",
              "    90% {\n",
              "      border-color: transparent;\n",
              "      border-bottom-color: var(--fill-color);\n",
              "    }\n",
              "  }\n",
              "</style>\n",
              "\n",
              "  <script>\n",
              "    async function quickchart(key) {\n",
              "      const quickchartButtonEl =\n",
              "        document.querySelector('#' + key + ' button');\n",
              "      quickchartButtonEl.disabled = true;  // To prevent multiple clicks.\n",
              "      quickchartButtonEl.classList.add('colab-df-spinner');\n",
              "      try {\n",
              "        const charts = await google.colab.kernel.invokeFunction(\n",
              "            'suggestCharts', [key], {});\n",
              "      } catch (error) {\n",
              "        console.error('Error during call to suggestCharts:', error);\n",
              "      }\n",
              "      quickchartButtonEl.classList.remove('colab-df-spinner');\n",
              "      quickchartButtonEl.classList.add('colab-df-quickchart-complete');\n",
              "    }\n",
              "    (() => {\n",
              "      let quickchartButtonEl =\n",
              "        document.querySelector('#df-04a9cf56-a98b-41fe-8a17-c3ad4dbddc15 button');\n",
              "      quickchartButtonEl.style.display =\n",
              "        google.colab.kernel.accessAllowed ? 'block' : 'none';\n",
              "    })();\n",
              "  </script>\n",
              "</div>\n",
              "\n",
              "    </div>\n",
              "  </div>\n"
            ],
            "application/vnd.google.colaboratory.intrinsic+json": {
              "type": "dataframe",
              "variable_name": "df",
              "summary": "{\n  \"name\": \"df\",\n  \"rows\": 6251,\n  \"fields\": [\n    {\n      \"column\": \"item\",\n      \"properties\": {\n        \"dtype\": \"string\",\n        \"num_unique_values\": 6251,\n        \"samples\": [\n          \"http://www.wikidata.org/entity/Q17020543\",\n          \"http://www.wikidata.org/entity/Q6735853\",\n          \"http://www.wikidata.org/entity/Q3513409\"\n        ],\n        \"semantic_type\": \"\",\n        \"description\": \"\"\n      }\n    },\n    {\n      \"column\": \"name\",\n      \"properties\": {\n        \"dtype\": \"string\",\n        \"num_unique_values\": 6245,\n        \"samples\": [\n          \"Braille magazine\",\n          \"Biella\",\n          \"Second Spouse\"\n        ],\n        \"semantic_type\": \"\",\n        \"description\": \"\"\n      }\n    },\n    {\n      \"column\": \"description\",\n      \"properties\": {\n        \"dtype\": \"string\",\n        \"num_unique_values\": 5672,\n        \"samples\": [\n          \"roll roofing and waterproofing material\",\n          \"artistic, literary, musical, and intellectual movement\",\n          \"major entertainment company or motion picture company that has its own privately owned studio facility or facilities that are used to make films, which is handled by the production company\"\n        ],\n        \"semantic_type\": \"\",\n        \"description\": \"\"\n      }\n    },\n    {\n      \"column\": \"type\",\n      \"properties\": {\n        \"dtype\": \"category\",\n        \"num_unique_values\": 2,\n        \"samples\": [\n          \"concept\",\n          \"entity\"\n        ],\n        \"semantic_type\": \"\",\n        \"description\": \"\"\n      }\n    },\n    {\n      \"column\": \"category\",\n      \"properties\": {\n        \"dtype\": \"category\",\n        \"num_unique_values\": 19,\n        \"samples\": [\n          \"politics\",\n          \"media\"\n        ],\n        \"semantic_type\": \"\",\n        \"description\": \"\"\n      }\n    },\n    {\n      \"column\": \"subcategory\",\n      \"properties\": {\n        \"dtype\": \"category\",\n        \"num_unique_values\": 108,\n        \"samples\": [\n          \"musical profession\",\n          \"cook\"\n        ],\n        \"semantic_type\": \"\",\n        \"description\": \"\"\n      }\n    },\n    {\n      \"column\": \"label\",\n      \"properties\": {\n        \"dtype\": \"category\",\n        \"num_unique_values\": 9,\n        \"samples\": [\n          \"cultural ex\",\n          \"cultural representative\"\n        ],\n        \"semantic_type\": \"\",\n        \"description\": \"\"\n      }\n    }\n  ]\n}"
            }
          },
          "metadata": {},
          "execution_count": 8
        }
      ],
      "source": [
        "# 1) Load the TSV file into a Pandas DataFrame.\n",
        "df = pd.read_csv(file_path, delimiter='\\t', encoding='utf-8')\n",
        "df.head()\n"
      ]
    },
    {
      "cell_type": "markdown",
      "metadata": {
        "id": "ldDXynUltpuk"
      },
      "source": [
        "##### 0.5.1: NaN LABEL PRESENCE"
      ]
    },
    {
      "cell_type": "code",
      "execution_count": null,
      "metadata": {
        "colab": {
          "base_uri": "https://localhost:8080/"
        },
        "id": "QwW3XAG0suxk",
        "outputId": "59478ddf-10c6-4ebf-f03f-775594ed97ed"
      },
      "outputs": [
        {
          "output_type": "stream",
          "name": "stdout",
          "text": [
            "=== NaN LABEL PRESENCE ===\n",
            "Total missing values in the DataFrame: 7\n",
            "\n",
            "Missing values by column:\n",
            "item           0\n",
            "name           0\n",
            "description    0\n",
            "type           0\n",
            "category       0\n",
            "subcategory    0\n",
            "label          7\n",
            "dtype: int64\n",
            "\n",
            "Rows with missing values and the respective columns:\n",
            "Row 1214: ['label']\n",
            "Row 1651: ['label']\n",
            "Row 2831: ['label']\n",
            "Row 3236: ['label']\n",
            "Row 4853: ['label']\n",
            "Row 5885: ['label']\n",
            "Row 6063: ['label']\n",
            "DataFrame shape before dropping rows with NaN: (6251, 7)\n",
            "DataFrame shape after dropping rows with NaN: (6244, 7)\n",
            "====== END =====\n",
            "\n"
          ]
        }
      ],
      "source": [
        "df = check_nan_labels(df)"
      ]
    },
    {
      "cell_type": "markdown",
      "metadata": {
        "id": "xPMGMb-Yvjl2"
      },
      "source": [
        "##### 0.5.2: LABEL INCONSISTENCIES"
      ]
    },
    {
      "cell_type": "code",
      "execution_count": null,
      "metadata": {
        "colab": {
          "base_uri": "https://localhost:8080/"
        },
        "id": "snV5OXw5jtMx",
        "outputId": "ff2b6fce-d3ab-4f74-e4ab-4e9a21aa4908"
      },
      "outputs": [
        {
          "output_type": "stream",
          "name": "stdout",
          "text": [
            "=== LABEL INCONSISTENCIES PRESENCE ===\n",
            "Original unique labels:\n",
            "{'cultural ag', 'cultural', 'cultural agn', 'cultural ex', 'cultural represent', 'cultural exclusive', 'cultural agnostic', 'cultural representative', 'cult'}\n",
            "DataFrame shape before dropping rows with ambiguous labels: (6244, 7)\n",
            "DataFrame shape after dropping rows with ambiguous labels: (6238, 7)\n",
            "\n",
            "Unique labels after cleaning:\n",
            "{'cultural agnostic', 'cultural representative', 'cultural exclusive'}\n",
            "====== END =====\n",
            "\n"
          ]
        }
      ],
      "source": [
        "df = check_labels_inconsistencies(df)\n"
      ]
    },
    {
      "cell_type": "markdown",
      "metadata": {
        "id": "92Unu7Y7xk72"
      },
      "source": [
        "##### 0.5.3: CLASS IMBALANCE"
      ]
    },
    {
      "cell_type": "code",
      "execution_count": null,
      "metadata": {
        "colab": {
          "base_uri": "https://localhost:8080/",
          "height": 732
        },
        "id": "2JBbbao6rvKB",
        "outputId": "d9e54324-9508-42ca-d43c-fc94d13a28f6"
      },
      "outputs": [
        {
          "output_type": "stream",
          "name": "stdout",
          "text": [
            "\n",
            "Label Counts:\n",
            "label\n",
            "cultural exclusive         2686\n",
            "cultural agnostic          1866\n",
            "cultural representative    1686\n",
            "Name: count, dtype: int64\n"
          ]
        },
        {
          "output_type": "display_data",
          "data": {
            "text/plain": [
              "<Figure size 800x600 with 1 Axes>"
            ],
            "image/png": "[encoded data removed]"
          },
          "metadata": {}
        }
      ],
      "source": [
        "visualize_class_imbalance(df)"
      ]
    },
    {
      "cell_type": "markdown",
      "metadata": {
        "id": "AhDBxnvk-t1S"
      },
      "source": [
        "##### 0.5.4: DUPLICATES DISCOVERY"
      ]
    },
    {
      "cell_type": "code",
      "execution_count": null,
      "metadata": {
        "colab": {
          "base_uri": "https://localhost:8080/"
        },
        "id": "fNpxRTSt-xgu",
        "outputId": "f9421c2a-e1e7-4b4f-c64c-6f1f2dfa4553"
      },
      "outputs": [
        {
          "output_type": "stream",
          "name": "stdout",
          "text": [
            "Cells that are not unique in column 'name':\n",
            "['prefect' 'Pirate Party' 'Socialist Party' 'central government'\n",
            " 'Breithorn' 'Alexandria']\n"
          ]
        }
      ],
      "source": [
        "check_duplicates(df)"
      ]
    },
    {
      "cell_type": "markdown",
      "metadata": {
        "id": "eOOqdtVy1MAU"
      },
      "source": [
        "##### 0.5.5: CLEANED DATASET INFORMATION\n"
      ]
    },
    {
      "cell_type": "code",
      "execution_count": null,
      "metadata": {
        "colab": {
          "base_uri": "https://localhost:8080/"
        },
        "id": "f8o3_Puak7Cs",
        "outputId": "69fd2599-d3d7-46eb-d615-83274d64af82"
      },
      "outputs": [
        {
          "output_type": "stream",
          "name": "stdout",
          "text": [
            "=== DataFrame Info ===\n",
            "<class 'pandas.core.frame.DataFrame'>\n",
            "Index: 6238 entries, 0 to 6250\n",
            "Data columns (total 7 columns):\n",
            " #   Column       Non-Null Count  Dtype \n",
            "---  ------       --------------  ----- \n",
            " 0   item         6238 non-null   object\n",
            " 1   name         6238 non-null   object\n",
            " 2   description  6238 non-null   object\n",
            " 3   type         6238 non-null   object\n",
            " 4   category     6238 non-null   object\n",
            " 5   subcategory  6238 non-null   object\n",
            " 6   label        6238 non-null   object\n",
            "dtypes: object(7)\n",
            "memory usage: 389.9+ KB\n"
          ]
        }
      ],
      "source": [
        "# 1) Display basic DF information.\n",
        "print(\"=== DataFrame Info ===\")\n",
        "df.info()\n",
        "\n"
      ]
    },
    {
      "cell_type": "code",
      "execution_count": null,
      "metadata": {
        "colab": {
          "base_uri": "https://localhost:8080/"
        },
        "id": "7OAVxH901T8z",
        "outputId": "fb0144ce-bb40-4be5-e3e1-520e1aac6b49"
      },
      "outputs": [
        {
          "output_type": "stream",
          "name": "stdout",
          "text": [
            "\n",
            "=== DataFrame Statistics===\n",
            "                                         item                name description  \\\n",
            "count                                    6238                6238        6238   \n",
            "unique                                   6238                6232        5659   \n",
            "top     http://www.wikidata.org/entity/Q67094  central government  film genre   \n",
            "freq                                        1                   2          32   \n",
            "\n",
            "          type  category subcategory               label  \n",
            "count     6238      6238        6238                6238  \n",
            "unique       2        19         108                   3  \n",
            "top     entity  politics  politician  cultural exclusive  \n",
            "freq      3919       532          99                2686  \n"
          ]
        }
      ],
      "source": [
        "# 2) Display DF Staistics.\n",
        "print(\"\\n=== DataFrame Statistics===\")\n",
        "print(df.describe())"
      ]
    },
    {
      "cell_type": "code",
      "execution_count": null,
      "metadata": {
        "colab": {
          "base_uri": "https://localhost:8080/"
        },
        "id": "5BBK5crt2S0U",
        "outputId": "b35eae7a-2262-471e-8005-33e6c3a1660e"
      },
      "outputs": [
        {
          "output_type": "stream",
          "name": "stdout",
          "text": [
            "Number of duplicate rows: 0\n"
          ]
        }
      ],
      "source": [
        "# 3) Check for duplicate rows\n",
        "duplicate_mask = df.duplicated()\n",
        "num_duplicates = duplicate_mask.sum()\n",
        "print(f\"Number of duplicate rows: {num_duplicates}\")\n",
        "\n",
        "if num_duplicates > 0:\n",
        "    print(\"Duplicate rows:\")\n",
        "    print(df[duplicate_mask])\n",
        "\n",
        "# (DUPLICATES NOT PRESENT) !"
      ]
    },
    {
      "cell_type": "code",
      "execution_count": null,
      "metadata": {
        "colab": {
          "base_uri": "https://localhost:8080/"
        },
        "id": "GqgELHow3Zbj",
        "outputId": "09dec205-4053-4b66-9597-5d5bbe0ee426"
      },
      "outputs": [
        {
          "output_type": "stream",
          "name": "stdout",
          "text": [
            "Unique Categories:\n",
            "['politics' 'food' 'architecture' 'transportation' 'sports' 'media'\n",
            " 'philosophy and religion' 'literature' 'visual arts' 'fashion'\n",
            " 'comics and anime' 'performing arts' 'music' 'films' 'books' 'history'\n",
            " 'gestures and habits' 'biology' 'geography']\n",
            "19\n",
            "\n",
            "Unique Subcategories:\n",
            "['politician' 'political party' 'government agency' 'law' 'policy'\n",
            " 'government' 'food' 'drink' 'dish' 'ingredient' 'cook'\n",
            " 'cooking technique' 'architectural structure' 'architectural style'\n",
            " 'architect' 'construction' 'building' 'building material'\n",
            " 'transport company' 'automobile manufacturer' 'transport'\n",
            " 'mode of transport' 'station' 'athlete' 'sports team' 'sport'\n",
            " 'sports club' 'recurring sporting event' 'sports equipment'\n",
            " 'media company' 'magazine' 'television' 'production company'\n",
            " 'film studio' 'streaming service' 'philosopher' 'religious leader'\n",
            " 'religion' 'philosophy' 'philosophical movement' 'religious movement'\n",
            " 'poetry' 'poet' 'writing style' 'literary genre' 'literary award'\n",
            " 'writer' 'publisher' 'artist' 'visual arts' 'art gallery' 'art movement'\n",
            " 'painting' 'photographer' 'clothing' 'traditional costume' 'designer'\n",
            " 'fashion trend' 'textile' 'model' 'comics' 'comics artist' 'manga'\n",
            " 'animated film' 'animation technique' 'animation studio' 'actor'\n",
            " 'theatrical director' 'choreographer' 'dance' 'folk dance'\n",
            " 'theatrical genre' 'musician' 'musical group' 'music genre'\n",
            " 'record label' 'music festival' 'musical profession' 'film'\n",
            " 'film festival' 'film director' 'film producer' 'film genre' 'book'\n",
            " 'bookstore' 'non-fiction writer' 'historian' 'historical event' 'archive'\n",
            " 'museum' 'monument' 'gesture' 'ritual' 'tradition' 'greeting'\n",
            " 'body language' 'organism' 'biologist' 'animal' 'tree' 'plant' 'fish'\n",
            " 'geographic location' 'environment' 'mountain' 'river' 'city'\n",
            " 'neighborhood']\n",
            "108\n"
          ]
        }
      ],
      "source": [
        "# 4) Checking that we have really 19 categories, and also checking the according subcategories.\n",
        "unique_categories = df[\"category\"].unique()\n",
        "unique_subcategories = df[\"subcategory\"].unique()\n",
        "\n",
        "print(\"Unique Categories:\")\n",
        "print(unique_categories)\n",
        "print(len(unique_categories))\n",
        "print(\"\\nUnique Subcategories:\")\n",
        "print(unique_subcategories)\n",
        "print(len(unique_subcategories))\n",
        "\n"
      ]
    },
    {
      "cell_type": "code",
      "execution_count": null,
      "metadata": {
        "colab": {
          "base_uri": "https://localhost:8080/"
        },
        "id": "iVDr7kZL7cD0",
        "outputId": "664a95e5-2cae-46bf-87db-8f618130e5d9"
      },
      "outputs": [
        {
          "output_type": "stream",
          "name": "stdout",
          "text": [
            "Categories and their subcategories:\n",
            "Category: architecture -> Subcategories: ['architectural structure', 'architectural style', 'architect', 'construction', 'building', 'building material'] (Count: 6)\n",
            "Category: biology -> Subcategories: ['organism', 'biologist', 'animal', 'tree', 'plant', 'fish'] (Count: 6)\n",
            "Category: books -> Subcategories: ['book', 'bookstore', 'non-fiction writer'] (Count: 3)\n",
            "Category: comics and anime -> Subcategories: ['comics', 'comics artist', 'manga', 'animated film', 'animation technique', 'animation studio'] (Count: 6)\n",
            "Category: fashion -> Subcategories: ['clothing', 'traditional costume', 'designer', 'fashion trend', 'textile', 'model'] (Count: 6)\n",
            "Category: films -> Subcategories: ['film', 'film festival', 'film director', 'film producer', 'film genre'] (Count: 5)\n",
            "Category: food -> Subcategories: ['food', 'drink', 'dish', 'ingredient', 'cook', 'cooking technique'] (Count: 6)\n",
            "Category: geography -> Subcategories: ['geographic location', 'environment', 'mountain', 'river', 'city', 'neighborhood'] (Count: 6)\n",
            "Category: gestures and habits -> Subcategories: ['gesture', 'ritual', 'tradition', 'greeting', 'body language'] (Count: 5)\n",
            "Category: history -> Subcategories: ['historian', 'historical event', 'archive', 'museum', 'monument'] (Count: 5)\n",
            "Category: literature -> Subcategories: ['poetry', 'poet', 'writing style', 'literary genre', 'literary award', 'writer', 'publisher'] (Count: 7)\n",
            "Category: media -> Subcategories: ['media company', 'magazine', 'television', 'production company', 'film studio', 'streaming service'] (Count: 6)\n",
            "Category: music -> Subcategories: ['musician', 'musical group', 'music genre', 'record label', 'music festival', 'musical profession'] (Count: 6)\n",
            "Category: performing arts -> Subcategories: ['actor', 'theatrical director', 'choreographer', 'dance', 'folk dance', 'theatrical genre'] (Count: 6)\n",
            "Category: philosophy and religion -> Subcategories: ['philosopher', 'religious leader', 'religion', 'philosophy', 'philosophical movement', 'religious movement'] (Count: 6)\n",
            "Category: politics -> Subcategories: ['politician', 'political party', 'government agency', 'law', 'policy', 'government'] (Count: 6)\n",
            "Category: sports -> Subcategories: ['athlete', 'sports team', 'sport', 'sports club', 'recurring sporting event', 'sports equipment'] (Count: 6)\n",
            "Category: transportation -> Subcategories: ['transport company', 'automobile manufacturer', 'transport', 'mode of transport', 'station'] (Count: 5)\n",
            "Category: visual arts -> Subcategories: ['artist', 'visual arts', 'art gallery', 'art movement', 'painting', 'photographer'] (Count: 6)\n"
          ]
        }
      ],
      "source": [
        "# 5) Category-SubCategories Dictionary construction.\n",
        "cat_subcat_dict = df.groupby(\"category\")[\"subcategory\"].unique().to_dict()\n",
        "\n",
        "print(\"Categories and their subcategories:\")\n",
        "for cat, subcats in cat_subcat_dict.items():\n",
        "    print(f\"Category: {cat} -> Subcategories: {list(subcats)} (Count: {len(subcats)})\")"
      ]
    },
    {
      "cell_type": "code",
      "execution_count": null,
      "metadata": {
        "colab": {
          "base_uri": "https://localhost:8080/",
          "height": 1000
        },
        "id": "UX-4w0qq7nZx",
        "outputId": "f6b51a7b-e234-4ed0-aaac-236fc7627c5c"
      },
      "outputs": [
        {
          "output_type": "stream",
          "name": "stdout",
          "text": [
            "\n",
            "Counts for each Category:\n",
            "category\n",
            "politics                   532\n",
            "sports                     428\n",
            "geography                  408\n",
            "philosophy and religion    394\n",
            "architecture               394\n",
            "literature                 362\n",
            "music                      348\n",
            "food                       345\n",
            "fashion                    319\n",
            "visual arts                312\n",
            "comics and anime           311\n",
            "history                    304\n",
            "media                      285\n",
            "biology                    285\n",
            "performing arts            275\n",
            "films                      269\n",
            "gestures and habits        259\n",
            "transportation             217\n",
            "books                      191\n",
            "Name: count, dtype: int64\n",
            "\n",
            "Counts for each Subcategory:\n",
            "subcategory\n",
            "politician           99\n",
            "law                  95\n",
            "film                 95\n",
            "government agency    94\n",
            "ritual               94\n",
            "                     ..\n",
            "environment           5\n",
            "writing style         4\n",
            "cooking technique     4\n",
            "fashion trend         4\n",
            "body language         1\n",
            "Name: count, Length: 108, dtype: int64\n"
          ]
        },
        {
          "output_type": "display_data",
          "data": {
            "text/plain": [
              "<Figure size 1000x600 with 1 Axes>"
            ],
            "image/png": "[encoded data removed]"
          },
          "metadata": {}
        },
        {
          "output_type": "display_data",
          "data": {
            "text/plain": [
              "<Figure size 1000x600 with 1 Axes>"
            ],
            "image/png": "[encoded data removed]"
          },
          "metadata": {}
        }
      ],
      "source": [
        "# 6) Additionally, print counts of entries for each category.\n",
        "category_counts = df[\"category\"].value_counts()\n",
        "print(\"\\nCounts for each Category:\")\n",
        "print(category_counts)\n",
        "\n",
        "# And for each subcategory\n",
        "subcategory_counts = df[\"subcategory\"].value_counts()\n",
        "print(\"\\nCounts for each Subcategory:\")\n",
        "print(subcategory_counts)\n",
        "\n",
        "# Visualize the distribution of the main categories.\n",
        "category_counts = df[\"category\"].value_counts()\n",
        "plt.figure(figsize=(10,6))\n",
        "category_counts.plot(kind='bar', color='skyblue')\n",
        "plt.xlabel(\"Category\")\n",
        "plt.ylabel(\"Count\")\n",
        "plt.title(\"Distribution of Categories\")\n",
        "plt.xticks(rotation=45)\n",
        "plt.tight_layout()\n",
        "plt.show()\n",
        "\n",
        "# Visualize the number of unique subcategories for each main category.\n",
        "subcat_counts = {cat: len(subcats) for cat, subcats in cat_subcat_dict.items()}\n",
        "plt.figure(figsize=(10,6))\n",
        "plt.bar(subcat_counts.keys(), subcat_counts.values(), color='lightgreen')\n",
        "plt.xlabel(\"Category\")\n",
        "plt.ylabel(\"Number of Unique Subcategories\")\n",
        "plt.title(\"Unique Subcategories per Category\")\n",
        "plt.xticks(rotation=45)\n",
        "plt.tight_layout()\n",
        "plt.show()\n"
      ]
    },
    {
      "cell_type": "markdown",
      "metadata": {
        "id": "MNvsHYhnCabT"
      },
      "source": [
        "##### 0.5.6: SAVE MODIFIED DATAFRAME (CSV)"
      ]
    },
    {
      "cell_type": "code",
      "execution_count": null,
      "metadata": {
        "id": "-fRDqpCnCkmg"
      },
      "outputs": [],
      "source": [
        "df.to_csv(\"dataframe.csv\", index=False)"
      ]
    },
    {
      "cell_type": "markdown",
      "metadata": {
        "id": "NFUZ1Wb0HDD6"
      },
      "source": [
        "#### 0.5: NEW VERSION (DATASET)"
      ]
    },
    {
      "cell_type": "markdown",
      "metadata": {
        "id": "I-_6xWBEHX4O"
      },
      "source": [
        "##### 0.5.0: SETUP STEP"
      ]
    },
    {
      "cell_type": "code",
      "execution_count": null,
      "metadata": {
        "id": "B9I_opDqHQ4_"
      },
      "outputs": [],
      "source": [
        "# Login beforehand using huggingface-cli login if necessary.\n",
        "ds = load_dataset(\"sapienzanlp/nlp2025_hw1_cultural_dataset\")\n",
        "train_data = ds[\"train\"]\n",
        "validation_data = ds[\"validation\"]\n",
        "\n",
        "# Create Pandas Dataframes just for better analysis.\n",
        "train_df = train_data.to_pandas()\n",
        "validation_df = validation_data.to_pandas()\n"
      ]
    },
    {
      "cell_type": "code",
      "execution_count": null,
      "metadata": {
        "id": "TGoM4l00JiMr"
      },
      "outputs": [],
      "source": [
        "train_df.head()"
      ]
    },
    {
      "cell_type": "code",
      "execution_count": null,
      "metadata": {
        "id": "RjwsUO89J5k5"
      },
      "outputs": [],
      "source": [
        "validation_df.head()"
      ]
    },
    {
      "cell_type": "markdown",
      "metadata": {
        "id": "yyqbg81aKW-m"
      },
      "source": [
        "##### 0.5.1: NaN LABEL PRESENCE"
      ]
    },
    {
      "cell_type": "code",
      "execution_count": null,
      "metadata": {
        "id": "r-a-YGY8KW-m"
      },
      "outputs": [],
      "source": [
        "df_train = check_nan_labels(train_df)\n",
        "df_validation = check_nan_labels(validation_df)\n"
      ]
    },
    {
      "cell_type": "markdown",
      "metadata": {
        "id": "sYBCKbZOKcdR"
      },
      "source": [
        "##### 0.5.2: LABEL INCONSISTENCIES"
      ]
    },
    {
      "cell_type": "code",
      "execution_count": null,
      "metadata": {
        "id": "BPhwxSOJKcdS"
      },
      "outputs": [],
      "source": [
        "train_df = check_labels_inconsistencies(train_df)\n",
        "validation_df = check_labels_inconsistencies(validation_df)"
      ]
    },
    {
      "cell_type": "markdown",
      "metadata": {
        "id": "yeyOO3XUKk5-"
      },
      "source": [
        "##### 0.5.3: CLASS IMBALANCE"
      ]
    },
    {
      "cell_type": "code",
      "execution_count": null,
      "metadata": {
        "id": "-VGpnaGZKk5_"
      },
      "outputs": [],
      "source": [
        "visualize_class_imbalance(train_df)\n",
        "visualize_class_imbalance(validation_df)"
      ]
    },
    {
      "cell_type": "markdown",
      "metadata": {
        "id": "rvSwSeB1Kpxj"
      },
      "source": [
        "##### 0.5.4: DUPLICATES DISCOVERY"
      ]
    },
    {
      "cell_type": "code",
      "execution_count": null,
      "metadata": {
        "id": "1oIHQd72Kpxj"
      },
      "outputs": [],
      "source": [
        "check_duplicates(train_df)\n",
        "check_duplicates(validation_df)"
      ]
    },
    {
      "cell_type": "markdown",
      "metadata": {
        "id": "5A28QAbXKtIX"
      },
      "source": [
        "##### 0.5.5: CLEANED DATASET INFORMATION\n"
      ]
    },
    {
      "cell_type": "code",
      "execution_count": null,
      "metadata": {
        "id": "pr2EblcDKtIY"
      },
      "outputs": [],
      "source": [
        "# 1) Display basic DF information.\n",
        "print(\"=== Training DataFrame Info ===\")\n",
        "train_df.info()\n",
        "\n",
        "print(\"=== Validation DataFrame Info ===\")\n",
        "validation_df.info()"
      ]
    },
    {
      "cell_type": "code",
      "execution_count": null,
      "metadata": {
        "id": "Q9Ptxfs4KtIY"
      },
      "outputs": [],
      "source": [
        "# 2) Display DF Staistics.\n",
        "print(\"\\n=== Training DataFrame Statistics===\")\n",
        "print(train_df.describe())\n",
        "\n",
        "print(\"\\n=== Validation DataFrame Statistics===\")\n",
        "print(validation_df.describe())"
      ]
    },
    {
      "cell_type": "code",
      "execution_count": null,
      "metadata": {
        "id": "-SiRxsu1KtId"
      },
      "outputs": [],
      "source": [
        "# 3) Check for duplicate rows\n",
        "duplicate_mask = train_df.duplicated()\n",
        "num_duplicates = duplicate_mask.sum()\n",
        "print(f\"Number of duplicate rows: {num_duplicates}\")\n",
        "\n",
        "if num_duplicates > 0:\n",
        "    print(\"Duplicate rows:\")\n",
        "    print(df[duplicate_mask])\n",
        "\n",
        "# (DUPLICATES NOT PRESENT) !"
      ]
    },
    {
      "cell_type": "code",
      "execution_count": null,
      "metadata": {
        "id": "wWKsyCuwKtId"
      },
      "outputs": [],
      "source": [
        "# 4) Checking that we have really 19 categories, and also checking the according subcategories.\n",
        "unique_categories = train_df[\"category\"].unique()\n",
        "unique_subcategories = train_df[\"subcategory\"].unique()\n",
        "\n",
        "print(\"Unique Categories:\")\n",
        "print(unique_categories)\n",
        "print(len(unique_categories))\n",
        "print(\"\\nUnique Subcategories:\")\n",
        "print(unique_subcategories)\n",
        "print(len(unique_subcategories))\n",
        "\n"
      ]
    },
    {
      "cell_type": "code",
      "execution_count": null,
      "metadata": {
        "id": "4WIOakvSKtIe"
      },
      "outputs": [],
      "source": [
        "# 5) Category-SubCategories Dictionary construction.\n",
        "cat_subcat_dict = train_df.groupby(\"category\")[\"subcategory\"].unique().to_dict()\n",
        "\n",
        "print(\"Categories and their subcategories:\")\n",
        "for cat, subcats in cat_subcat_dict.items():\n",
        "    print(f\"Category: {cat} -> Subcategories: {list(subcats)} (Count: {len(subcats)})\")"
      ]
    },
    {
      "cell_type": "code",
      "execution_count": null,
      "metadata": {
        "id": "p89uYxH9KtIj"
      },
      "outputs": [],
      "source": [
        "# 6) Additionally, print counts of entries for each category.\n",
        "category_counts = train_df[\"category\"].value_counts()\n",
        "print(\"\\nCounts for each Category:\")\n",
        "print(category_counts)\n",
        "\n",
        "# And for each subcategory\n",
        "subcategory_counts = train_df[\"subcategory\"].value_counts()\n",
        "print(\"\\nCounts for each Subcategory:\")\n",
        "print(subcategory_counts)\n",
        "\n",
        "# Visualize the distribution of the main categories.\n",
        "category_counts = train_df[\"category\"].value_counts()\n",
        "plt.figure(figsize=(10,6))\n",
        "category_counts.plot(kind='bar', color='skyblue')\n",
        "plt.xlabel(\"Category\")\n",
        "plt.ylabel(\"Count\")\n",
        "plt.title(\"Distribution of Categories\")\n",
        "plt.xticks(rotation=45)\n",
        "plt.tight_layout()\n",
        "plt.show()\n",
        "\n",
        "# Visualize the number of unique subcategories for each main category.\n",
        "subcat_counts = {cat: len(subcats) for cat, subcats in cat_subcat_dict.items()}\n",
        "plt.figure(figsize=(10,6))\n",
        "plt.bar(subcat_counts.keys(), subcat_counts.values(), color='lightgreen')\n",
        "plt.xlabel(\"Category\")\n",
        "plt.ylabel(\"Number of Unique Subcategories\")\n",
        "plt.title(\"Unique Subcategories per Category\")\n",
        "plt.xticks(rotation=45)\n",
        "plt.tight_layout()\n",
        "plt.show()\n"
      ]
    },
    {
      "cell_type": "markdown",
      "source": [
        "### 2: GRAPH CONSTRUCTION"
      ],
      "metadata": {
        "id": "vuoj_FH4oS3D"
      }
    },
    {
      "cell_type": "markdown",
      "source": [
        "####2.1: BASELINE - TF–IDF + Category/Subcategory Clique Graph\n",
        "\n",
        "In this first **Baseline**, we represent each cultural item as a node in a **homogeneous graph**, using its name and description to build a **1 000‑dimensional TF–IDF(Term Frequency–Inverse Document Frequency) feature vector**.  **Edges** are then added by **fully connecting (“clique‐ing”)** all items that share the same high‑level category or fine‑grained subcategory, encoding cultural similarity purely via our provided taxonomy.  We also create train/validation masks on the nodes so that downstream GNNs can be trained and evaluated in a standard node‐classification setup. Notice that this is just a very basic construction that provides only a starting point before moving on to more sophisticated graph types or feature enhancements.  \n",
        "\n",
        "--------------------------\n",
        "**TF–IDF FEATURE VECTOR**\n",
        "\n",
        "*(Reference: https://scikit-learn.org/stable/modules/generated/sklearn.feature_extraction.text.TfidfVectorizer.html)*\n",
        "\n",
        "In this baseline graph, each node corresponds to a cultural item with two text fields: **name** and **description**.  To turn these into fixed‑length numeric features that capture the most distinctive words for each item, we compute a **TF–IDF** vector.\n",
        "\n",
        "- **Tokenization and Vocabulary:** The *TfidfVectorizer* we employ, by default:\n",
        "  - Splits each “name + description” string on whitespace and punctuation.\n",
        "  - Converts all text to lowercase.\n",
        "  - Builds a vocabulary of the top `max_features` $(\\leq 1\\,000)$ terms ranked by overall TF–IDF score.\n",
        "\n",
        "- **Term Frequency (TF):** For a given item $d$ and term $t$, we have that this captures how often $t$ appears **within** this item’s text.\n",
        ":\n",
        "$$\\begin{equation}\n",
        "  \\mathrm{TF}(t, d) \\;=\\; \\frac{\\text{count of }t\\text{ in }d}{\\text{total terms in }d}.\n",
        "  \\end{equation}\n",
        "$$\n",
        "\n",
        "- **Inverse Document Frequency (IDF):** Over the entire corpus of $N$ items  (with $\\lvert\\{d : t \\in d\\}\\rvert$ being the number of items containing $t$), we have that rarer terms get a higher IDF weight.:\n",
        "$$\\begin{equation}\n",
        "  \\mathrm{IDF}(t) \\;=\\; \\log\\!\\Bigl(\\frac{N}{1 + \\lvert\\{\\,d : t \\in d\\}\\rvert}\\Bigr),\n",
        "  \\end{equation}\n",
        "$$\n",
        "\n",
        "- **Combining TF and IDF:** The **TF–IDF** weight for term \\(t\\) in document \\(d\\) is:\n",
        "$$\\begin{equation}\n",
        "  \\mathrm{TF\\mbox{–}IDF}(t, d) \\;=\\; \\mathrm{TF}(t, d) \\times \\mathrm{IDF}(t).\n",
        "  \\end{equation}\n",
        "$$\n",
        "\n",
        "One can interpret this information as follows:\n",
        "- **High TF–IDF** --> term is common in this item but rare across all items.\n",
        "- **Low TF–IDF** --> term is either too common everywhere or too rare in this item.\n",
        "\n",
        "--------------------------\n",
        "**1. DATA PREPARATION & SPLIT**\n",
        "\n",
        "- We begin by adding to the **train** and **validation** DataFrames, one item per row with the columns: (`item`, `name`,\n",
        " `description`, `type`, `category` and `subcategory`, `label`.\n",
        "- We tag each row with a `split` column (`'train'` vs `'val'`) and then also concatenate both sets into a single DataFrame `df`.  \n",
        "- We also create explicit boolean masks (`train_mask`, `val_mask`) so we can later index into our graph object for training vs validation.  \n",
        "\n",
        "**2. BUILDING THE GRAPH TOPOLOGY**\n",
        "\n",
        "- We instantiate an empty **NetworkX** graph `G`.  \n",
        "- **Nodes** correspond one‑to‑one with rows in `df` (by integer index) and e store each node’s `category` and `subcategory` and the `train_mask`/`val_mask` flags.\n",
        "\n",
        "- We connect nodes via **clique edges** on shared categorical membership:\n",
        "  1. For each unique **category**, fully connect (make a clique of) all items in that category.\n",
        "  2. Repeat for each **subcategory**.  \n",
        "\n",
        "  With this, we aim to build a homogeneous item–item graph where edges encode broad or narrow cultural similarity.\n",
        "\n",
        "**3. COMPUTING NODE FEATURES**\n",
        "\n",
        "- We represent each item with a **TF–IDF** vector over the concatenated `\"name + description\"` text:\n",
        "  1. Collect all `name + description` strings into a list of length \\(n\\).  \n",
        "  2. fit+transform a `TfidfVectorizer(max_features=1000)` to obtain an \\([n \\times 1000]\\) dense array.  \n",
        "\n",
        "- These 1,000‑dim vectors become our initial node features `x`.\n",
        "\n",
        "**4. LABEL ENCODING**\n",
        "\n",
        "- We map the three textual labels to integer IDs:\n",
        "  {\n",
        "    'cultural agnostic':       0,\n",
        "    'cultural representative': 1,\n",
        "    'cultural exclusive':      2\n",
        "  }\n"
      ],
      "metadata": {
        "id": "v9timabPmTIx"
      }
    },
    {
      "cell_type": "code",
      "execution_count": null,
      "metadata": {
        "id": "moJI1C7X39JE"
      },
      "outputs": [],
      "source": [
        "# 1) Data Preparation and Split.\n",
        "train_df = train_df.copy()\n",
        "val_df   = validation_df.copy()\n",
        "train_df['split'] = 'train'\n",
        "val_df  ['split'] = 'val'\n",
        "df = pd.concat([train_df, val_df], ignore_index=True)\n",
        "df['train_mask'] = df['split'] == 'train'\n",
        "df['val_mask']   = df['split'] == 'val'\n",
        "n = len(df)\n",
        "\n",
        "# 2) Build a NetworkX graph.\n",
        "G = nx.Graph()\n",
        "for i, row in df.iterrows():\n",
        "    G.add_node(i,\n",
        "               category    = row['category'],\n",
        "               subcategory = row['subcategory'],\n",
        "               train_mask  = bool(row['train_mask']),\n",
        "               val_mask    = bool(row['val_mask'])\n",
        "              )\n",
        "\n",
        "# 2.1) Clique‐connect by category & subcategory.\n",
        "for attr in ['category','subcategory']:\n",
        "    for _, idxs in df.groupby(attr).groups.items():\n",
        "        for u, v in itertools.combinations(idxs, 2):\n",
        "            G.add_edge(u, v)\n",
        "\n",
        "# 3) Computing Node Features (TF–IDF features on \"name + description\").\n",
        "texts = (df['name'] + \" \" + df['description']).tolist()\n",
        "tfidf = TfidfVectorizer(max_features=1_000)\n",
        "X = tfidf.fit_transform(texts).toarray()   # The shape here is therefore [n,1000].\n",
        "\n",
        "# 4) Label Encoding.\n",
        "label_map = {\n",
        "    'cultural agnostic':       0,\n",
        "    'cultural representative': 1,\n",
        "    'cultural exclusive':      2,\n",
        "}\n",
        "Y = df['label'].map(label_map).astype(int).values\n",
        "\n",
        "# Stash x, y, and masks on nodes.\n",
        "for i in range(n):\n",
        "    G.nodes[i]['x']          = X[i]\n",
        "    G.nodes[i]['y']          = int(Y[i])\n",
        "    G.nodes[i]['train_mask'] = G.nodes[i]['train_mask']\n",
        "    G.nodes[i]['val_mask']   = G.nodes[i]['val_mask']\n",
        "\n",
        "# Convert to torch_geometric.Data.\n",
        "data = from_networkx(G)\n",
        "\n",
        "# Fix necessary in order to satisfy the dtypes/names to PyG conventions.\n",
        "data.x           = data.x.float()          # Shape here: [n,1000].\n",
        "data.y           = data.y.long()           # Shape here: [n].\n",
        "data.train_mask  = data.train_mask.bool()  # Shape here: [n].\n",
        "data.val_mask    = data.val_mask.bool()    # Shape here: [n].\n",
        "print(data)\n"
      ]
    },
    {
      "cell_type": "markdown",
      "source": [
        "##### 2.1.1: SAMPLED SUBGRAPH VISUALIZATION"
      ],
      "metadata": {
        "id": "hECEeCSrE-Bj"
      }
    },
    {
      "cell_type": "code",
      "source": [
        "# 1) Sample 200 random nodes.\n",
        "sample_nodes = random.sample(list(G.nodes()), 200)\n",
        "subG = G.subgraph(sample_nodes)\n",
        "pos = nx.spring_layout(subG, seed=42)\n",
        "\n",
        "# 2) Draw the subgraph.\n",
        "plt.figure(figsize=(10, 10))\n",
        "nx.draw(subG, pos,\n",
        "        node_size=50,\n",
        "        edge_color=\"gray\",\n",
        "        with_labels=False)\n",
        "plt.title(\"Sampled Subgraph (200 nodes) of TF–IDF + Category/Subcategory Clique Graph\")\n",
        "plt.show()\n",
        "\n",
        "# 3) Plot Degree Distribution of the full graph.\n",
        "plt.figure(figsize=(6,4))\n",
        "degrees = [d for _, d in G.degree()]\n",
        "plt.hist(degrees, bins=50, color='skyblue', edgecolor='black')\n",
        "plt.xlabel(\"Degree\")\n",
        "plt.ylabel(\"Number of nodes\")\n",
        "plt.title(\"Degree Distribution\")\n",
        "plt.show()\n"
      ],
      "metadata": {
        "id": "E9zWk4JcsgLH"
      },
      "execution_count": null,
      "outputs": []
    },
    {
      "cell_type": "markdown",
      "source": [
        "##### 2.1.2: DEFINE UTILS FUNCTIONS & BASIC PARAMS"
      ],
      "metadata": {
        "id": "eusstxc5KBrF"
      }
    },
    {
      "cell_type": "code",
      "source": [
        "# 1) Set seeds for Reproducibility.\n",
        "seed = 42\n",
        "random.seed(seed)\n",
        "np.random.seed(seed)\n",
        "torch.manual_seed(seed)\n",
        "torch.cuda.manual_seed_all(seed)\n",
        "torch.backends.cudnn.deterministic = True\n",
        "torch.backends.cudnn.benchmark = False\n",
        "os.environ[\"PYTHONHASHSEED\"] = str(seed)\n",
        "device = torch.device(\"cuda\" if torch.cuda.is_available() else \"cpu\")\n",
        "data = data.to(device)\n",
        "\n",
        "# 2) Compute class weights for imbalanced cross‑entropy.\n",
        "train_y = data.y[data.train_mask]\n",
        "class_counts = torch.bincount(train_y)\n",
        "class_weights = 1.0 / (class_counts.float() + 1e-6) # To avoid div by 0.\n",
        "class_weights = class_weights / class_weights.sum() * class_counts.numel()\n",
        "class_weights = class_weights.to(device)\n",
        "\n",
        "# 3) Basic Params.\n",
        "patience       = 200\n",
        "best_val_loss  = float('inf')\n",
        "epochs_no_imp  = 0\n",
        "max_epochs     = 2000\n",
        "best_state     = None\n"
      ],
      "metadata": {
        "id": "Tfhk1-yYKPwl"
      },
      "execution_count": null,
      "outputs": []
    },
    {
      "cell_type": "code",
      "source": [
        "def train_model(model, data, class_weights, patience, max_epochs):\n",
        "\n",
        "    # Set basic info.\n",
        "    best_val_loss = float('inf')\n",
        "    epochs_no_imp = 0\n",
        "    best_state    = None\n",
        "\n",
        "    # Optimizer, Scheduler & Early Stopping setup.\n",
        "    optimizer = torch.optim.Adam(model.parameters(),\n",
        "                                lr=1e-3,\n",
        "                                weight_decay=1e-4)\n",
        "    scheduler = torch.optim.lr_scheduler.StepLR(optimizer,\n",
        "                                                step_size=50,\n",
        "                                                gamma=0.5)\n",
        "\n",
        "    for epoch in range(1, max_epochs+1):\n",
        "\n",
        "        # Training step.\n",
        "        model.train()\n",
        "        optimizer.zero_grad()\n",
        "        out   = model(data.x, data.edge_index)\n",
        "        loss  = F.cross_entropy(out[data.train_mask],\n",
        "                                data.y[data.train_mask],\n",
        "                                weight=class_weights)\n",
        "        loss.backward()\n",
        "        optimizer.step()\n",
        "        scheduler.step()\n",
        "\n",
        "        # Validation step.\n",
        "        model.eval()\n",
        "        with torch.no_grad():\n",
        "            logits     = model(data.x, data.edge_index)\n",
        "            val_logits = logits[data.val_mask]\n",
        "            val_labels = data.y[data.val_mask]\n",
        "            val_loss   = F.cross_entropy(val_logits, val_labels).item()\n",
        "\n",
        "        # Check Early Stopping.\n",
        "        if val_loss + 1e-4 < best_val_loss:\n",
        "            best_val_loss = val_loss\n",
        "            epochs_no_imp = 0\n",
        "            best_state    = model.state_dict()\n",
        "        else:\n",
        "            epochs_no_imp += 1\n",
        "            if epochs_no_imp >= patience:\n",
        "                print(f\"Early stopping at epoch {epoch}\")\n",
        "                break\n",
        "\n",
        "        # Print results every 10 epochs.\n",
        "        if epoch % 10 == 0:\n",
        "            # compute metrics\n",
        "            preds = val_logits.argmax(dim=1)\n",
        "            acc   = (preds == val_labels).float().mean().item()\n",
        "            y_t   = val_labels.cpu().numpy()\n",
        "            y_p   = preds.cpu().numpy()\n",
        "            prec  = precision_score(y_t, y_p, average='macro', zero_division=0)\n",
        "            rec   = recall_score(   y_t, y_p, average='macro', zero_division=0)\n",
        "            f1    = f1_score(       y_t, y_p, average='macro', zero_division=0)\n",
        "            ppl   = torch.exp(torch.tensor(val_loss)).item()\n",
        "\n",
        "            print(f\"[Epoch {epoch:03d}] \"\n",
        "                  f\"Train Loss: {loss:.4f}  \"\n",
        "                  f\"Val Loss:   {val_loss:.4f}  \"\n",
        "                  f\"Val Acc:    {acc:.4f}  \"\n",
        "                  f\"Prec:       {prec:.4f}  \"\n",
        "                  f\"Rec:        {rec:.4f}  \"\n",
        "                  f\"F1:         {f1:.4f}  \"\n",
        "                  f\"PPL:        {ppl:.2f}\")\n",
        "\n",
        "    return best_state, best_val_loss\n",
        "\n",
        "# ─── 8) Final Evaluation as a Reusable Function ───────────────────────────────\n",
        "def evaluate_model(model, data, best_state, best_val_loss):\n",
        "\n",
        "    # Loading the model and put it into evaluation mode.\n",
        "    model.load_state_dict(best_state)\n",
        "    model.eval()\n",
        "\n",
        "    # Evaluate.\n",
        "    with torch.no_grad():\n",
        "        logits     = model(data.x, data.edge_index)[data.val_mask]\n",
        "        labels     = data.y[data.val_mask]\n",
        "        preds      = logits.argmax(dim=1)\n",
        "        acc        = (preds == labels).float().mean().item()\n",
        "        y_t        = labels.cpu().numpy()\n",
        "        y_p        = preds.cpu().numpy()\n",
        "        prec       = precision_score(y_t, y_p, average='macro', zero_division=0)\n",
        "        rec        = recall_score(   y_t, y_p, average='macro', zero_division=0)\n",
        "        f1         = f1_score(       y_t, y_p, average='macro', zero_division=0)\n",
        "        ppl        = torch.exp(torch.tensor(best_val_loss)).item()\n",
        "\n",
        "    print(f\"\\nBest Val Loss: {best_val_loss:.4f}\")\n",
        "    print(f\"Final Val Acc: {acc:.4f}, Prec: {prec:.4f}, Rec: {rec:.4f}, \"\n",
        "          f\"F1: {f1:.4f}, PPL: {ppl:.2f}\")\n",
        "\n",
        "    return {'acc':acc, 'prec':prec, 'rec':rec, 'f1':f1, 'ppl':ppl}"
      ],
      "metadata": {
        "id": "Im472EVPKfZF"
      },
      "execution_count": null,
      "outputs": []
    },
    {
      "cell_type": "markdown",
      "source": [
        "##### 2.1.2: GCN (\"GRAPH CONVOLUTIONAL NETWORK\")"
      ],
      "metadata": {
        "id": "m0eHg8tbGJMZ"
      }
    },
    {
      "cell_type": "code",
      "source": [
        "# 3‑layer GCN Model (1 hidden) with residual + BatchNorm.\n",
        "class GCN(torch.nn.Module):\n",
        "    def __init__(self, in_dim, hid_dim, out_dim,\n",
        "                 heads=4, dropout=0.5):\n",
        "        super().__init__()\n",
        "        # 1) Input layer.\n",
        "        self.conv1 = GCNConv(in_dim, hid_dim, heads=heads, dropout=dropout)\n",
        "        self.bn1   = BatchNorm1d(hid_dim * heads)\n",
        "\n",
        "        # 2) Hidden layer.\n",
        "        self.conv2 = GCNConv(hid_dim * heads, hid_dim, heads=heads, dropout=dropout)\n",
        "        self.bn2   = BatchNorm1d(hid_dim * heads)\n",
        "\n",
        "        # 3) Output layer.\n",
        "        self.conv3 = GCNConv(hid_dim * heads, out_dim, heads=1, concat=False, dropout=dropout)\n",
        "\n",
        "        # 4) Dropout layer.\n",
        "        self.dropout = Dropout(dropout)\n",
        "\n",
        "        # 5) Residual (skip).\n",
        "        self.res_lin = Linear(in_dim, out_dim)\n",
        "\n",
        "    def forward(self, x, edge_index):\n",
        "        # Original input for residual skip.\n",
        "        x0 = x\n",
        "\n",
        "        # First layer.\n",
        "        x = self.conv1(x, edge_index)\n",
        "        x = self.bn1(x).relu()\n",
        "        x = self.dropout(x)\n",
        "\n",
        "        # Hidden layer.\n",
        "        x = self.conv2(x, edge_index)\n",
        "        x = self.bn2(x).relu()\n",
        "        x = self.dropout(x)\n",
        "\n",
        "        # Output layer.\n",
        "        x = self.conv3(x, edge_index)\n",
        "\n",
        "        # Residual skip from input.\n",
        "        return x + self.res_lin(x0)\n"
      ],
      "metadata": {
        "id": "2n6kuIzTHHUI"
      },
      "execution_count": null,
      "outputs": []
    },
    {
      "cell_type": "code",
      "source": [
        "# 1) Instantiate GCN Model.\n",
        "GCN_model = GCN(in_dim = data.x.size(1),\n",
        "                hid_dim=64,\n",
        "                out_dim = 3,\n",
        "                dropout=0.5).to(device)\n",
        "\n",
        "# 2) Training the model.\n",
        "best_state, best_val_loss = train_model(\n",
        "    GCN_model, data, class_weights, patience, max_epochs\n",
        ")\n",
        "\n",
        "# 3) Evaluation of the Model.\n",
        "metrics = evaluate_model(GCN_model, data, best_state, best_val_loss)"
      ],
      "metadata": {
        "id": "OjysfFpulP4n"
      },
      "execution_count": null,
      "outputs": []
    },
    {
      "cell_type": "markdown",
      "source": [
        "##### 2.1.3: GAT(\"GRAPH ATTENTION NETWORK\")"
      ],
      "metadata": {
        "id": "1lS6a9_SMJLW"
      }
    },
    {
      "cell_type": "code",
      "source": [
        "# 3‑layer GAT Model (1 hidden) with residual + BatchNorm.\n",
        "class GAT(torch.nn.Module):\n",
        "    def __init__(self, in_dim, hid_dim, out_dim,\n",
        "                 heads=4, dropout=0.5):\n",
        "        super().__init__()\n",
        "        # 1) Input layer.\n",
        "        self.conv1 = GATConv(in_dim, hid_dim, heads=heads, dropout=dropout)\n",
        "        self.bn1   = BatchNorm1d(hid_dim * heads)\n",
        "\n",
        "        # 2) Hidden layer.\n",
        "        self.conv2 = GATConv(hid_dim * heads, hid_dim, heads=heads, dropout=dropout)\n",
        "        self.bn2   = BatchNorm1d(hid_dim * heads)\n",
        "\n",
        "        # 3) Output layer.\n",
        "        self.conv3 = GATConv(hid_dim * heads, out_dim, heads=1, concat=False, dropout=dropout)\n",
        "\n",
        "        # 4) Dropout layer.\n",
        "        self.dropout = Dropout(dropout)\n",
        "\n",
        "        # 5) Residual (skip).\n",
        "        self.res_lin = Linear(in_dim, out_dim)\n",
        "\n",
        "    def forward(self, x, edge_index):\n",
        "        # Original input for residual skip.\n",
        "        x0 = x\n",
        "\n",
        "        # First layer.\n",
        "        x = self.conv1(x, edge_index)\n",
        "        x = self.bn1(x).relu()\n",
        "        x = self.dropout(x)\n",
        "\n",
        "        # Hidden layer.\n",
        "        x = self.conv2(x, edge_index)\n",
        "        x = self.bn2(x).relu()\n",
        "        x = self.dropout(x)\n",
        "\n",
        "        # Output layer.\n",
        "        x = self.conv3(x, edge_index)\n",
        "\n",
        "        # Residual skip from input.\n",
        "        return x + self.res_lin(x0)\n"
      ],
      "metadata": {
        "id": "LKEHhsWJtJnI"
      },
      "execution_count": null,
      "outputs": []
    },
    {
      "cell_type": "code",
      "source": [
        "# 1) Instantiate GCN Model.\n",
        "GAT_model = GAT(in_dim = data.x.size(1),\n",
        "                hid_dim=64,\n",
        "                out_dim = 3,\n",
        "                dropout=0.5).to(device)\n",
        "\n",
        "# 2) Training the model.\n",
        "best_state, best_val_loss = train_model(\n",
        "    GAT_model, data, class_weights, patience, max_epochs\n",
        ")\n",
        "\n",
        "# 3) Evaluation of the Model.\n",
        "metrics = evaluate_model(GAT_model, data, best_state, best_val_loss)"
      ],
      "metadata": {
        "id": "EJOxTdy4MQT-"
      },
      "execution_count": null,
      "outputs": []
    },
    {
      "cell_type": "markdown",
      "source": [
        "##### 2.1.4: GRAPHSAGE"
      ],
      "metadata": {
        "id": "LukEaRIhOaIN"
      }
    },
    {
      "cell_type": "code",
      "source": [
        "# 3‑layer GraphSAGE Model (1 hidden) with residual + BatchNorm.\n",
        "class GraphSAGE(torch.nn.Module):\n",
        "    def __init__(self, in_dim, hid_dim, out_dim,\n",
        "                 heads=4, dropout=0.5):\n",
        "        super().__init__()\n",
        "        # 1) Input layer.\n",
        "        self.conv1 = SAGEConv(in_dim, hid_dim, heads=heads, dropout=dropout)\n",
        "        self.bn1   = BatchNorm1d(hid_dim * heads)\n",
        "\n",
        "        # 2) Hidden layer.\n",
        "        self.conv2 = SAGEConv(hid_dim * heads, hid_dim, heads=heads, dropout=dropout)\n",
        "        self.bn2   = BatchNorm1d(hid_dim * heads)\n",
        "\n",
        "        # 3) Output layer.\n",
        "        self.conv3 = SAGEConv(hid_dim * heads, out_dim, heads=1, concat=False, dropout=dropout)\n",
        "\n",
        "        # 4) Dropout layer.\n",
        "        self.dropout = Dropout(dropout)\n",
        "\n",
        "        # 5) Residual (skip).\n",
        "        self.res_lin = Linear(in_dim, out_dim)\n",
        "\n",
        "    def forward(self, x, edge_index):\n",
        "        # Original input for residual skip.\n",
        "        x0 = x\n",
        "\n",
        "        # First layer.\n",
        "        x = self.conv1(x, edge_index)\n",
        "        x = self.bn1(x).relu()\n",
        "        x = self.dropout(x)\n",
        "\n",
        "        # Hidden layer.\n",
        "        x = self.conv2(x, edge_index)\n",
        "        x = self.bn2(x).relu()\n",
        "        x = self.dropout(x)\n",
        "\n",
        "        # Output layer.\n",
        "        x = self.conv3(x, edge_index)\n",
        "\n",
        "        # Residual skip from input.\n",
        "        return x + self.res_lin(x0)\n"
      ],
      "metadata": {
        "id": "9e22-Abaxf4J"
      },
      "execution_count": null,
      "outputs": []
    },
    {
      "cell_type": "code",
      "source": [
        "# 1) Instantiate GCN Model.\n",
        "GraphSAGE_model = GraphSAGE(in_dim = data.x.size(1),\n",
        "                hid_dim=64,\n",
        "                out_dim = 3,\n",
        "                num_layers=4,\n",
        "                dropout=0.5).to(device)\n",
        "\n",
        "# 2) Training the model.\n",
        "best_state, best_val_loss = train_model(\n",
        "    GraphSAGE_model, data, class_weights, patience, max_epochs\n",
        ")\n",
        "\n",
        "# 3) Evaluation of the Model.\n",
        "metrics = evaluate_model(GraphSAGE_model, data, best_state, best_val_loss)"
      ],
      "metadata": {
        "id": "fZyfSnyZPOrX"
      },
      "execution_count": null,
      "outputs": []
    },
    {
      "cell_type": "markdown",
      "source": [
        "##### 2.1.5: GIN (\"GRAPH ISOMORPHISM NETWORK\")  "
      ],
      "metadata": {
        "id": "OXr3o4Y3O_5f"
      }
    },
    {
      "cell_type": "code",
      "source": [
        "# 3‑layer GIN Model (1 hidden) with residual + BatchNorm.\n",
        "class GIN(torch.nn.Module):\n",
        "    def __init__(self, in_dim, hid_dim, out_dim,\n",
        "                 heads=4, dropout=0.5):\n",
        "        super().__init__()\n",
        "        # 1) Input layer.\n",
        "        self.conv1 = GINConv(in_dim, hid_dim, heads=heads, dropout=dropout)\n",
        "        self.bn1   = BatchNorm1d(hid_dim * heads)\n",
        "\n",
        "        # 2) Hidden layer.\n",
        "        self.conv2 = GINConv(hid_dim * heads, hid_dim, heads=heads, dropout=dropout)\n",
        "        self.bn2   = BatchNorm1d(hid_dim * heads)\n",
        "\n",
        "        # 3) Output layer.\n",
        "        self.conv3 = GINConv(hid_dim * heads, out_dim, heads=1, concat=False, dropout=dropout)\n",
        "\n",
        "        # 4) Dropout layer.\n",
        "        self.dropout = Dropout(dropout)\n",
        "\n",
        "        # 5) Residual (skip).\n",
        "        self.res_lin = Linear(in_dim, out_dim)\n",
        "\n",
        "    def forward(self, x, edge_index):\n",
        "        # Original input for residual skip.\n",
        "        x0 = x\n",
        "\n",
        "        # First layer.\n",
        "        x = self.conv1(x, edge_index)\n",
        "        x = self.bn1(x).relu()\n",
        "        x = self.dropout(x)\n",
        "\n",
        "        # Hidden layer.\n",
        "        x = self.conv2(x, edge_index)\n",
        "        x = self.bn2(x).relu()\n",
        "        x = self.dropout(x)\n",
        "\n",
        "        # Output layer.\n",
        "        x = self.conv3(x, edge_index)\n",
        "\n",
        "        # Residual skip from input.\n",
        "        return x + self.res_lin(x0)\n"
      ],
      "metadata": {
        "id": "ZlXHBAF2Pnq-"
      },
      "execution_count": null,
      "outputs": []
    },
    {
      "cell_type": "code",
      "source": [
        "# 1) Instantiate GCN Model.\n",
        "GIN_model = GIN(in_dim = data.x.size(1),\n",
        "                hid_dim=64,\n",
        "                out_dim = 3,\n",
        "                num_layers=4,\n",
        "                dropout=0.5).to(device)\n",
        "\n",
        "# 2) Training the model.\n",
        "best_state, best_val_loss = train_model(\n",
        "    GIN_model, data, class_weights, patience, max_epochs\n",
        ")\n",
        "\n",
        "# 3) Evaluation of the Model.\n",
        "metrics = evaluate_model(GIN_model, data, best_state, best_val_loss)"
      ],
      "metadata": {
        "id": "6BYwtA1BPoEB"
      },
      "execution_count": null,
      "outputs": []
    },
    {
      "cell_type": "markdown",
      "source": [
        "#### 2.2: NEW WAY\n"
      ],
      "metadata": {
        "id": "EutudzXcmfyU"
      }
    },
    {
      "cell_type": "markdown",
      "source": [
        "# TO-DO:\n",
        "- Add pre-trained embeddings (contextual)?\n",
        "- Tyrn type, category and subcategory into learned embeddings\n",
        "\n",
        "- Instead of clique-connectng items, we introduce explicit category-nodes."
      ],
      "metadata": {
        "id": "b-QuZazamkka"
      }
    },
    {
      "cell_type": "markdown",
      "source": [
        "### 2.OLD"
      ],
      "metadata": {
        "id": "f3Rdw5M-gl2T"
      }
    },
    {
      "cell_type": "markdown",
      "source": [
        "--------------------------\n",
        "**HETEROUGENEOUS GRAPHS**\n",
        "\n",
        "For this task, we will build a set of **Heterogeneous Graphs**. This is a graph in which **nodes and/or edges belong to different types**. In other words, it is a **multi-relational graph** where each node may have its own feature space and each edge represents a specific type of relationship.\n",
        "\n",
        "In our implementation, the **main entity** (for example, a food item like \"Pizza\") is represented as a **primary node** (of type \"item\"). **Additional nodes** are created for **various attributes** (e.g., categories, instance_of, subclass_of, creator, location, genre) using the enriched data from Wikidata and Wikipedia. Each attribute node is connected to the main item node by an edge that denotes the nature of the relationship (e.g., \"has_category\" for categories).\n",
        "\n",
        "--------------------------\n",
        "**CONTEXTUAL EMBEDDINGS**\n",
        "\n",
        "To generate meaningful **feature vectors**, we employ a **Sentence Transformer** (using the ***all-mpnet-base-v2 model***) to compute Contextual Embeddings. We enhance the representation of the main node by unifying the label and the Wikipedia summary into one text. This is then encoded into a dense vector that captures fine semantic nuances. The attribute nodes are similarly embedded using their respective textual information.\n",
        "\n",
        "*WHY SENTENCE TRASNFORMER: all-mpnet-base-v2 model*\n",
        "\n",
        "We choose **all-mpnet-base-v2 model** because it strikes an excellent balance between efficiency and the quality of contextual embeddings. Indeed:\n",
        "\n",
        "- **BERT** adopts masked language modeling (MLM) for pre-training and is one of the most successful pre-training models. However BERT neglects dependency among predicted tokens. *BERT* and *RoBERTa* at their time set a new state-of-the-art performance (particularly on sentence-pair regression tasks like semantic textual similarity (STS)), but they however require that both sentences are fed into the network, causing a **massive computational overhead**. The construction of BERT makes it unsuitable for semantic similarity search. **Sentence-BERT (SBERT)** is a modification of the pretrained BERT network that use siamese and triplet network structures to derive semantically meaningful sentence embeddings that can be compared using cosine-similarity. This reduces the effort for finding the most similar pair from 65 hours with BERT / RoBERTa to about 5 seconds with SBERT, while maintaining the accuracy from BERT.\n",
        "- **XLNet** introduces permuted language modeling (PLM) for pre-training to address this problem. However, XLNet does not leverage the full position information of a sentence and thus suffers from position discrepancy between pre-training and fine-tuning.\n",
        "- **MPNet** inherits the advantages of BERT and XLNet and avoids their limitations. MPNet leverages the dependency among predicted tokens through permuted language modeling (vs. MLM in BERT), and takes auxiliary position information as input to make the model see a full sentence and thus reducing the position discrepancy (vs. PLM in XLNet). Also as concerns avg performances in terms of speed, we also have that this is fast w.r.t. the others.\n",
        "\n",
        "For more info about model performances: https://www.sbert.net/docs/sentence_transformer/pretrained_models.html\n",
        "\n",
        "***(REFERENCES)***\n",
        "- *BERT*: https://arxiv.org/abs/1810.04805\n",
        "- *RoBERTa*: https://arxiv.org/abs/1907.11692\n",
        "- *XLNet*: https://arxiv.org/abs/1906.08237\n",
        "- *Sentence-BERT*: https://arxiv.org/abs/1908.10084\n",
        "- *MPNet*: https://arxiv.org/abs/2004.09297\n",
        "\n",
        "\n",
        "\n",
        "--------------------------\n",
        "**EDGES WEIGHTING: COSINE SIMILARITY**\n",
        "\n",
        "**Edges** between the main node and each attribute node are **weighted** by computing the **Cosine Similarity** between their **embeddings**. We decide to apply this with the aim to have them to be **Semantic Similarity Scores** that help to reflect the **main entity & its attributes relationship strength**.\n"
      ],
      "metadata": {
        "id": "ucVRiWDtgkua"
      }
    },
    {
      "cell_type": "markdown",
      "metadata": {
        "id": "Otv06fYKgHl4"
      },
      "source": [
        "### 3: HETEROPHILY INDEX"
      ]
    },
    {
      "cell_type": "markdown",
      "metadata": {
        "id": "dPFRTHC2gLyr"
      },
      "source": [
        "### 4: SHEAF NEURAL NETWORK"
      ]
    }
  ],
  "metadata": {
    "colab": {
      "provenance": [],
      "gpuType": "T4"
    },
    "kernelspec": {
      "display_name": "Python 3",
      "name": "python3"
    },
    "language_info": {
      "name": "python"
    },
    "accelerator": "GPU"
  },
  "nbformat": 4,
  "nbformat_minor": 0
}